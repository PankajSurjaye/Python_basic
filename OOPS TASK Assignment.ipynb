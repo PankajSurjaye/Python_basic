{
 "cells": [
  {
   "cell_type": "code",
   "execution_count": 19,
   "id": "f37d6170",
   "metadata": {},
   "outputs": [],
   "source": [
    "# Q1, Create a vehicle class with an init method having instance variables as name_of_vehicle, max_speed\n",
    "# and average_of_vehicle."
   ]
  },
  {
   "cell_type": "code",
   "execution_count": 20,
   "id": "afba12c8",
   "metadata": {},
   "outputs": [],
   "source": [
    "# Create vehicle class\n",
    "class vehicle:\n",
    "    def __init__(self, name_of_vehicle, max_speed, average_of_vehicle):\n",
    "        self.name_of_vehicle = name_of_vehicle\n",
    "        self.max_speed = max_speed\n",
    "        self.average_of_vehicle = average_of_vehicle"
   ]
  },
  {
   "cell_type": "code",
   "execution_count": 21,
   "id": "6b7eb4a4",
   "metadata": {},
   "outputs": [
    {
     "name": "stdout",
     "output_type": "stream",
     "text": [
      "Car - Name: Car\n",
      "Car - Max Speed: 200\n",
      "Car - Average Speed: 30\n",
      "Motorcycle - Name: Motorcycle\n",
      "Motorcycle - Max Speed: 150\n",
      "Motorcycle - Average Speed: 40\n"
     ]
    }
   ],
   "source": [
    "# Create instances of the Vehicle class\n",
    "car = vehicle(\"Car\", 200, 30)\n",
    "motorcycle = vehicle(\"Motorcycle\", 150, 40)\n",
    "\n",
    "# Access the attributes of the instances\n",
    "print(\"Car - Name:\", car.name_of_vehicle)\n",
    "print(\"Car - Max Speed:\", car.max_speed)\n",
    "print(\"Car - Average Speed:\", car.average_of_vehicle)\n",
    "\n",
    "print(\"Motorcycle - Name:\", motorcycle.name_of_vehicle)\n",
    "print(\"Motorcycle - Max Speed:\", motorcycle.max_speed)\n",
    "print(\"Motorcycle - Average Speed:\", motorcycle.average_of_vehicle)\n"
   ]
  },
  {
   "cell_type": "code",
   "execution_count": 22,
   "id": "dbaf226f",
   "metadata": {},
   "outputs": [],
   "source": [
    "# Q2. Create a child class car from the vehicle class created in Que 1, which will inherit the vehicle class.\n",
    "# Create a method named seating_capacity which takes capacity as an argument and returns the name of\n",
    "# the vehicle and its seating capacity."
   ]
  },
  {
   "cell_type": "code",
   "execution_count": 23,
   "id": "8382852c",
   "metadata": {},
   "outputs": [
    {
     "name": "stdout",
     "output_type": "stream",
     "text": [
      "Car Name: Sedan\n",
      "Car Max Speed: 180\n",
      "Car Average Speed: 25\n",
      "Sedan has a seating capacity of 5 passengers.\n"
     ]
    }
   ],
   "source": [
    "class Car(vehicle):\n",
    "    def __init__(self, name_of_vehicle, max_speed, average_of_vehicle):\n",
    "        # Call the constructor of the parent class (Vehicle) using super()\n",
    "        super().__init__(name_of_vehicle, max_speed, average_of_vehicle)\n",
    "\n",
    "    def seating_capacity(self, capacity):\n",
    "        return f\"{self.name_of_vehicle} has a seating capacity of {capacity} passengers.\"\n",
    "\n",
    "# Create an instance of the Car class\n",
    "my_car = Car(\"Sedan\", 180, 25)\n",
    "\n",
    "# Access attributes of the Car\n",
    "print(\"Car Name:\", my_car.name_of_vehicle)\n",
    "print(\"Car Max Speed:\", my_car.max_speed)\n",
    "print(\"Car Average Speed:\", my_car.average_of_vehicle)\n",
    "\n",
    "# Call the seating_capacity method\n",
    "capacity = 5\n",
    "print(my_car.seating_capacity(capacity))\n"
   ]
  },
  {
   "cell_type": "code",
   "execution_count": 24,
   "id": "94b2db54",
   "metadata": {},
   "outputs": [],
   "source": [
    "# Q3. What is multiple inheritance? Write a python code to demonstrate multiple inheritance."
   ]
  },
  {
   "cell_type": "code",
   "execution_count": 25,
   "id": "6b5418b2",
   "metadata": {},
   "outputs": [],
   "source": [
    "# Multiple inheritance is a feature in object-oriented programming where a\n",
    "# class can inherit attributes and methods from more than one parent class. In Python, a class can inherit from\n",
    "# multiple classes by specifying multiple parent classes in its class definition. This allows the child class to \n",
    "# access the attributes and methods of all its parent classes.\n",
    "\n",
    "# Here's an example of multiple inheritance in Python:"
   ]
  },
  {
   "cell_type": "code",
   "execution_count": 26,
   "id": "54006848",
   "metadata": {},
   "outputs": [
    {
     "name": "stdout",
     "output_type": "stream",
     "text": [
      "Parrot chirps.\n",
      "Golden Retriever barks.\n",
      "Plane is flying.\n"
     ]
    }
   ],
   "source": [
    "# Parent class 1\n",
    "class Animal:\n",
    "    def __init__(self, name):\n",
    "        self.name = name\n",
    "\n",
    "    def speak(self):\n",
    "        pass\n",
    "\n",
    "# Parent class 2\n",
    "class Flyable:\n",
    "    def fly(self):\n",
    "        pass\n",
    "\n",
    "# Child class inheriting from both Animal and Flyable\n",
    "class Bird(Animal, Flyable):\n",
    "    def speak(self):\n",
    "        return f\"{self.name} chirps.\"\n",
    "\n",
    "# Child class inheriting from Animal only\n",
    "class Dog(Animal):\n",
    "    def speak(self):\n",
    "        return f\"{self.name} barks.\"\n",
    "\n",
    "# Child class inheriting from Flyable only\n",
    "class Plane(Flyable):\n",
    "    def fly(self):\n",
    "        return \"Plane is flying.\"\n",
    "\n",
    "# Create instances of the classes\n",
    "parrot = Bird(\"Parrot\")\n",
    "golden_retriever = Dog(\"Golden Retriever\")\n",
    "airplane = Plane()\n",
    "\n",
    "# Demonstrate multiple inheritance\n",
    "print(parrot.speak())  # Output: \"Parrot chirps.\"\n",
    "print(golden_retriever.speak())  # Output: \"Golden Retriever barks.\"\n",
    "print(airplane.fly())  # Output: \"Plane is flying.\"\n"
   ]
  },
  {
   "cell_type": "code",
   "execution_count": 27,
   "id": "617c10a8",
   "metadata": {},
   "outputs": [],
   "source": [
    "# Q4. What are getter and setter in python? Create a class and create a getter and a setter method in this class."
   ]
  },
  {
   "cell_type": "code",
   "execution_count": 28,
   "id": "f66b94df",
   "metadata": {},
   "outputs": [],
   "source": [
    "# In Python, getter and setter methods are used to control access to the attributes of a class. \n",
    "# They provide a way to get (access) and set (modify) the values of private or protected attributes \n",
    "# in a controlled manner, allowing you to implement data encapsulation and validation.\n",
    "\n",
    "# Here's an example of a class with a getter and a setter method:"
   ]
  },
  {
   "cell_type": "code",
   "execution_count": 29,
   "id": "e2d766d8",
   "metadata": {},
   "outputs": [
    {
     "name": "stdout",
     "output_type": "stream",
     "text": [
      "Name: Alice\n",
      "Age: 20\n",
      "Name should have at least 3 characters.\n",
      "Invalid age.\n"
     ]
    }
   ],
   "source": [
    "class Student:\n",
    "    def __init__(self, name, age):\n",
    "        self.__name = name  # Private attribute\n",
    "        self.__age = age    # Private attribute\n",
    "\n",
    "    # Getter method for name\n",
    "    def get_name(self):\n",
    "        return self.__name\n",
    "\n",
    "    # Setter method for name\n",
    "    def set_name(self, name):\n",
    "        if len(name) < 3:\n",
    "            print(\"Name should have at least 3 characters.\")\n",
    "        else:\n",
    "            self.__name = name\n",
    "\n",
    "    # Getter method for age\n",
    "    def get_age(self):\n",
    "        return self.__age\n",
    "\n",
    "    # Setter method for age\n",
    "    def set_age(self, age):\n",
    "        if age < 0 or age > 150:\n",
    "            print(\"Invalid age.\")\n",
    "        else:\n",
    "            self.__age = age\n",
    "\n",
    "# Create an instance of the Student class\n",
    "student = Student(\"Alice\", 20)\n",
    "\n",
    "# Use the getter methods to access attributes\n",
    "print(\"Name:\", student.get_name())  # Output: \"Name: Alice\"\n",
    "print(\"Age:\", student.get_age())    # Output: \"Age: 20\"\n",
    "\n",
    "# Use the setter methods to modify attributes\n",
    "student.set_name(\"Bob\")  # Valid name change\n",
    "student.set_age(25)     # Valid age change\n",
    "\n",
    "# Demonstrate validation using setter methods\n",
    "student.set_name(\"A\")  # Invalid name change (less than 3 characters)\n",
    "student.set_age(160)   # Invalid age change (out of range)\n"
   ]
  },
  {
   "cell_type": "code",
   "execution_count": 30,
   "id": "a0e239ab",
   "metadata": {},
   "outputs": [],
   "source": [
    "# Q5.What is method overriding in python? Write a python code to demonstrate method overriding."
   ]
  },
  {
   "cell_type": "code",
   "execution_count": 31,
   "id": "c697fee0",
   "metadata": {},
   "outputs": [],
   "source": [
    "# Method overriding is a feature in Python (and other object-oriented programming languages) that\n",
    "# allows a subclass to provide a specific implementation of a method that is already defined in its parent class.\n",
    "# When a method in the subclass has the same name and parameters as a method in the parent class, the method in \n",
    "# the subclass overrides the method in the parent class.\n",
    "\n",
    "# Here's an example of method overriding in Python:"
   ]
  },
  {
   "cell_type": "code",
   "execution_count": 32,
   "id": "93f44284",
   "metadata": {},
   "outputs": [
    {
     "name": "stdout",
     "output_type": "stream",
     "text": [
      "Animal speaks\n",
      "Dog barks\n",
      "Cat meows\n"
     ]
    }
   ],
   "source": [
    "class Animal:\n",
    "    def speak(self):\n",
    "        print(\"Animal speaks\")\n",
    "\n",
    "class Dog(Animal):\n",
    "    def speak(self):\n",
    "        print(\"Dog barks\")\n",
    "\n",
    "class Cat(Animal):\n",
    "    def speak(self):\n",
    "        print(\"Cat meows\")\n",
    "\n",
    "# Create instances of the classes\n",
    "animal = Animal()\n",
    "dog = Dog()\n",
    "cat = Cat()\n",
    "\n",
    "# Demonstrate method overriding\n",
    "animal.speak()  # Output: \"Animal speaks\"\n",
    "dog.speak()     # Output: \"Dog barks\"\n",
    "cat.speak()     # Output: \"Cat meows\"\n"
   ]
  },
  {
   "cell_type": "code",
   "execution_count": null,
   "id": "43753b61",
   "metadata": {},
   "outputs": [],
   "source": []
  },
  {
   "cell_type": "code",
   "execution_count": null,
   "id": "f7726483",
   "metadata": {},
   "outputs": [],
   "source": []
  }
 ],
 "metadata": {
  "kernelspec": {
   "display_name": "Python 3 (ipykernel)",
   "language": "python",
   "name": "python3"
  },
  "language_info": {
   "codemirror_mode": {
    "name": "ipython",
    "version": 3
   },
   "file_extension": ".py",
   "mimetype": "text/x-python",
   "name": "python",
   "nbconvert_exporter": "python",
   "pygments_lexer": "ipython3",
   "version": "3.9.12"
  }
 },
 "nbformat": 4,
 "nbformat_minor": 5
}
