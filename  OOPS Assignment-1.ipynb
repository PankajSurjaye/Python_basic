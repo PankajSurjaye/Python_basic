{
 "cells": [
  {
   "cell_type": "markdown",
   "id": "db8a4f55",
   "metadata": {},
   "source": [
    "# OOPS Assignment-1"
   ]
  },
  {
   "cell_type": "code",
   "execution_count": 28,
   "id": "5a471d8d",
   "metadata": {},
   "outputs": [],
   "source": [
    "# Q1. Explain Class and Object with respect to Object-Oriented Programming. Give a suitable example."
   ]
  },
  {
   "cell_type": "code",
   "execution_count": 29,
   "id": "8510f328",
   "metadata": {},
   "outputs": [],
   "source": [
    "# In object-oriented programming (OOP), a class and an object are fundamental concepts that help organize and\n",
    "# model the structure and behavior of software components. Let's explain these concepts and provide an example:\n",
    "\n",
    "# Class:\n",
    "\n",
    "# A class is a blueprint or template for creating objects. It defines the attributes (data) and methods \n",
    "# (functions) that objects of the class will have.\n",
    "# A class serves as a model for objects, specifying their structure and behavior.\n",
    "# It acts as a blueprint for creating multiple instances (objects) that share the same attributes and methods.\n",
    "\n",
    "# Object:\n",
    "\n",
    "# An object is an instance of a class, created based on the blueprint defined by the class.\n",
    "# Objects are individual entities that encapsulate data and behavior as specified by the class.\n",
    "# Each object has its own set of data (attributes) and can perform actions (methods) defined by the class.\n",
    "\n",
    "# Here's an example to illustrate these concepts in Python:"
   ]
  },
  {
   "cell_type": "code",
   "execution_count": 30,
   "id": "2b504445",
   "metadata": {},
   "outputs": [
    {
     "name": "stdout",
     "output_type": "stream",
     "text": [
      "Person 1:\n",
      "Name: Alice, Age: 25\n",
      "\n",
      "Person 2:\n",
      "Name: Bob, Age: 30\n"
     ]
    }
   ],
   "source": [
    "# Define a class called \"Person\"\n",
    "class Person:\n",
    "    # Constructor to initialize attributes\n",
    "    def __init__(self, name, age):\n",
    "        self.name = name  # Attribute\n",
    "        self.age = age    # Attribute\n",
    "\n",
    "    # Method to display information about the person\n",
    "    def display_info(self):\n",
    "        print(f\"Name: {self.name}, Age: {self.age}\")\n",
    "\n",
    "# Create objects (instances) of the \"Person\" class\n",
    "person1 = Person(\"Alice\", 25)\n",
    "person2 = Person(\"Bob\", 30)\n",
    "\n",
    "# Access attributes and methods of objects\n",
    "print(\"Person 1:\")\n",
    "person1.display_info()  # Output: \"Name: Alice, Age: 25\"\n",
    "\n",
    "print(\"\\nPerson 2:\")\n",
    "person2.display_info()  # Output: \"Name: Bob, Age: 30\"\n"
   ]
  },
  {
   "cell_type": "code",
   "execution_count": 31,
   "id": "e3cd3468",
   "metadata": {},
   "outputs": [],
   "source": [
    "# Q2. Name the four pillars of OOPs."
   ]
  },
  {
   "cell_type": "code",
   "execution_count": 32,
   "id": "f2db9465",
   "metadata": {},
   "outputs": [],
   "source": [
    "# The four pillars of object-oriented programming (OOP) are:\n",
    "\n",
    "# 1. **Encapsulation:** Encapsulation is the concept of bundling data (attributes) and methods (functions) that\n",
    "#     operate on that data into a single unit called a class. It restricts the direct access to some of the \n",
    "#     object's components, making it possible to control the manipulation of the data and ensuring the integrity of the object.\n",
    "\n",
    "# 2. **Abstraction:** Abstraction is the process of simplifying complex reality by modeling classes based on \n",
    "#     the essential attributes and behaviors they share, while hiding unnecessary details. It allows you to focus on \n",
    "#     what an object does rather than how it does it, making code more understandable and maintainable.\n",
    "\n",
    "# 3. **Inheritance:** Inheritance is a mechanism that allows a new class (subclass or derived class) to inherit attributes \n",
    "#     and methods from an existing class (base class or parent class). It promotes code reusability and the creation of \n",
    "#     hierarchies of classes that share common characteristics and behaviors.\n",
    "\n",
    "# 4. **Polymorphism:** Polymorphism allows objects of different classes to be treated as objects of a common superclass. \n",
    "#     It enables objects to respond to method calls in a way that is specific to their individual class while using a common \n",
    "#     interface. This enhances flexibility and extensibility in code.\n",
    "\n",
    "# These four pillars are fundamental principles in OOP and form the basis for building modular, maintainable, and scalable \n",
    "# software systems."
   ]
  },
  {
   "cell_type": "code",
   "execution_count": 33,
   "id": "f9a20935",
   "metadata": {},
   "outputs": [],
   "source": [
    "# Q3. Explain why the __init__() function is used. Give a suitable example."
   ]
  },
  {
   "cell_type": "code",
   "execution_count": 34,
   "id": "dcf4204c",
   "metadata": {},
   "outputs": [],
   "source": [
    "\n",
    "# The __init__() function, also known as the constructor method, is used in object-oriented programming (OOP) \n",
    "# to initialize the attributes (data members) of an object when it is created from a class. It is automatically\n",
    "# called when an object is instantiated, and it is a fundamental part of the object's life cycle. \n",
    "# The primary purpose of the __init__() method is to set the initial state of the object by assigning values to its attributes.\n",
    "\n",
    "# Here's an example to illustrate why the __init__() function is used:"
   ]
  },
  {
   "cell_type": "code",
   "execution_count": 35,
   "id": "1a5a9dd6",
   "metadata": {},
   "outputs": [
    {
     "name": "stdout",
     "output_type": "stream",
     "text": [
      "Name: Alice, Age: 25\n",
      "Name: Bob, Age: 30\n"
     ]
    }
   ],
   "source": [
    "class Person:\n",
    "    def __init__(self, name, age):\n",
    "        self.name = name  # Initialize the \"name\" attribute\n",
    "        self.age = age    # Initialize the \"age\" attribute\n",
    "\n",
    "    def display_info(self):\n",
    "        print(f\"Name: {self.name}, Age: {self.age}\")\n",
    "\n",
    "# Create objects and initialize attributes using the __init__() method\n",
    "person1 = Person(\"Alice\", 25)\n",
    "person2 = Person(\"Bob\", 30)\n",
    "\n",
    "# Access attributes and display information\n",
    "person1.display_info()  # Output: \"Name: Alice, Age: 25\"\n",
    "person2.display_info()  # Output: \"Name: Bob, Age: 30\"\n"
   ]
  },
  {
   "cell_type": "code",
   "execution_count": 36,
   "id": "18b77e0e",
   "metadata": {},
   "outputs": [],
   "source": [
    "# Q4. Why self is used in OOPs?"
   ]
  },
  {
   "cell_type": "code",
   "execution_count": 37,
   "id": "2eb835d2",
   "metadata": {},
   "outputs": [],
   "source": [
    "# In object-oriented programming (OOP), self is a convention used in Python and some other programming languages \n",
    "# to represent the instance of a class within its methods. It is not a reserved keyword, but it is a commonly accepted practice.\n",
    "\n",
    "# The use of self serves several important purposes in OOP:\n",
    "\n",
    "# Reference to the Current Instance: self is used to refer to the current instance of a class,\n",
    "#     allowing you to access the attributes and methods associated with that instance. Without self, \n",
    "#     you wouldn't be able to differentiate between instance-level attributes and methods and class-level attributes and methods.\n",
    "\n",
    "# Accessing Attributes: Inside a class method, you use self to access and modify the instance's attributes.\n",
    "#     For example, self.attribute_name refers to an instance's attribute.\n",
    "\n",
    "# Invoking Methods: self is used to call other methods within the same class. You use self.method_name() to \n",
    "#     invoke other methods of the same class.\n",
    "\n",
    "# Creating and Manipulating Instances: When you create an instance of a class, you use self implicitly. For example, \n",
    "#     when you write obj = ClassName(), self is automatically used to create and initialize the new object.\n",
    "\n",
    "# Here's an example that demonstrates the use of self in Python:"
   ]
  },
  {
   "cell_type": "code",
   "execution_count": 38,
   "id": "eaa78545",
   "metadata": {},
   "outputs": [
    {
     "name": "stdout",
     "output_type": "stream",
     "text": [
      "Toyota Camry\n"
     ]
    }
   ],
   "source": [
    "class Car:\n",
    "    def __init__(self, make, model):\n",
    "        self.make = make\n",
    "        self.model = model\n",
    "\n",
    "    def display_info(self):\n",
    "        return f\"{self.make} {self.model}\"\n",
    "\n",
    "# Creating an instance of the Car class\n",
    "my_car = Car(\"Toyota\", \"Camry\")\n",
    "\n",
    "# Accessing attributes using 'self'\n",
    "print(my_car.display_info())  # Output: \"Toyota Camry\"\n"
   ]
  },
  {
   "cell_type": "code",
   "execution_count": 39,
   "id": "13c36443",
   "metadata": {},
   "outputs": [],
   "source": [
    "# Q5. What is inheritance? Give an example for each type of inheritance."
   ]
  },
  {
   "cell_type": "code",
   "execution_count": 40,
   "id": "164e5423",
   "metadata": {},
   "outputs": [],
   "source": [
    "\n",
    "# Inheritance is a fundamental concept in object-oriented programming (OOP) that allows a new class\n",
    "# (subclass or derived class) to inherit attributes and methods from an existing class (base class or parent class). \n",
    "# It promotes code reusability and the creation of hierarchies of classes that share common characteristics and behaviors.\n",
    "# Inheritance allows you to define a new class based on an existing one, adding or modifying features as needed.\n",
    "\n",
    "# There are several types of inheritance, including:\n",
    "\n",
    "# 1. Single Inheritance: \n",
    "#     In single inheritance, a class inherits from only one base class. This is the simplest form of inheritance.\n",
    "\n",
    "# Example:"
   ]
  },
  {
   "cell_type": "code",
   "execution_count": 41,
   "id": "ea701dd3",
   "metadata": {},
   "outputs": [
    {
     "name": "stdout",
     "output_type": "stream",
     "text": [
      "Vehicle started\n",
      "Car is driving\n"
     ]
    }
   ],
   "source": [
    "class Vehicle:\n",
    "    def start(self):\n",
    "        print(\"Vehicle started\")\n",
    "\n",
    "class Car(Vehicle):\n",
    "    def drive(self):\n",
    "        print(\"Car is driving\")\n",
    "\n",
    "my_car = Car()\n",
    "my_car.start()  # Inherits the start method from the Vehicle class\n",
    "my_car.drive()\n"
   ]
  },
  {
   "cell_type": "code",
   "execution_count": 42,
   "id": "ff24d526",
   "metadata": {},
   "outputs": [],
   "source": [
    "# 2. Multiple Inheritance: \n",
    "#     In multiple inheritance, a class can inherit from more than one base class. This allows a \n",
    "#     class to inherit attributes and methods from multiple parent classes.\n",
    "\n",
    "# Example:"
   ]
  },
  {
   "cell_type": "code",
   "execution_count": 43,
   "id": "aa6f12e5",
   "metadata": {},
   "outputs": [
    {
     "name": "stdout",
     "output_type": "stream",
     "text": [
      "Bird chirps\n"
     ]
    }
   ],
   "source": [
    "class Animal:\n",
    "    def speak(self):\n",
    "        pass\n",
    "\n",
    "class Flyable:\n",
    "    def fly(self):\n",
    "        pass\n",
    "\n",
    "class Bird(Animal, Flyable):\n",
    "    def speak(self):\n",
    "        print(\"Bird chirps\")\n",
    "\n",
    "my_bird = Bird()\n",
    "my_bird.speak()  # Overrides the speak method from Animal\n",
    "my_bird.fly()\n"
   ]
  },
  {
   "cell_type": "code",
   "execution_count": 44,
   "id": "aeab6736",
   "metadata": {},
   "outputs": [],
   "source": [
    "# 3. Multilevel Inheritance: \n",
    "#     In multilevel inheritance, a class inherits from a base class, and another class inherits from the\n",
    "#     derived class, forming a chain or hierarchy.\n",
    "\n",
    "# Example:"
   ]
  },
  {
   "cell_type": "code",
   "execution_count": 45,
   "id": "c862f9fb",
   "metadata": {},
   "outputs": [
    {
     "name": "stdout",
     "output_type": "stream",
     "text": [
      "Dog barks\n"
     ]
    }
   ],
   "source": [
    "class Animal:\n",
    "    def speak(self):\n",
    "        pass\n",
    "\n",
    "class Mammal(Animal):\n",
    "    pass\n",
    "\n",
    "class Dog(Mammal):\n",
    "    def speak(self):\n",
    "        print(\"Dog barks\")\n",
    "\n",
    "my_dog = Dog()\n",
    "my_dog.speak()\n"
   ]
  },
  {
   "cell_type": "code",
   "execution_count": 46,
   "id": "d30fbf51",
   "metadata": {},
   "outputs": [],
   "source": [
    "# 4. Hierarchical Inheritance: In hierarchical inheritance, multiple classes inherit from a single base class.\n",
    "\n",
    "# Example:"
   ]
  },
  {
   "cell_type": "code",
   "execution_count": 47,
   "id": "800be294",
   "metadata": {},
   "outputs": [
    {
     "name": "stdout",
     "output_type": "stream",
     "text": [
      "Circle Area: 3.14\n",
      "Square Area: 4\n"
     ]
    }
   ],
   "source": [
    "class Shape:\n",
    "    def area(self):\n",
    "        pass\n",
    "\n",
    "class Circle(Shape):\n",
    "    def area(self):\n",
    "        return 3.14\n",
    "\n",
    "class Square(Shape):\n",
    "    def area(self):\n",
    "        return 4\n",
    "\n",
    "my_circle = Circle()\n",
    "my_square = Square()\n",
    "\n",
    "print(\"Circle Area:\", my_circle.area())\n",
    "print(\"Square Area:\", my_square.area())\n"
   ]
  },
  {
   "cell_type": "code",
   "execution_count": 48,
   "id": "d59a41a7",
   "metadata": {},
   "outputs": [],
   "source": [
    "# 5. Hybrid Inheritance: Hybrid inheritance is a combination of multiple types of\n",
    "#     inheritance. It may involve multiple, multilevel, hierarchical, a\n",
    "#     nd other types of inheritance in a single class hierarchy.\n",
    "\n",
    "# These examples demonstrate the different types of inheritance in OOP. The choice of which type to use \n",
    "# depends on the specific requirements and structure of the software being developed."
   ]
  },
  {
   "cell_type": "code",
   "execution_count": null,
   "id": "90b93b16",
   "metadata": {},
   "outputs": [],
   "source": []
  }
 ],
 "metadata": {
  "kernelspec": {
   "display_name": "Python 3 (ipykernel)",
   "language": "python",
   "name": "python3"
  },
  "language_info": {
   "codemirror_mode": {
    "name": "ipython",
    "version": 3
   },
   "file_extension": ".py",
   "mimetype": "text/x-python",
   "name": "python",
   "nbconvert_exporter": "python",
   "pygments_lexer": "ipython3",
   "version": "3.9.12"
  }
 },
 "nbformat": 4,
 "nbformat_minor": 5
}
