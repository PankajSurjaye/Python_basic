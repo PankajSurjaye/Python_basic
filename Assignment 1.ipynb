{
 "cells": [
  {
   "cell_type": "markdown",
   "id": "4d75c828",
   "metadata": {},
   "source": [
    "# Assignment 1"
   ]
  },
  {
   "cell_type": "markdown",
   "id": "6d1acf28",
   "metadata": {},
   "source": [
    "**Q1. Create one variable containing following type of data:\n",
    "(i) string\n",
    "(ii) list\n",
    "(iii) float\n",
    "(iv) tuple**"
   ]
  },
  {
   "cell_type": "code",
   "execution_count": 20,
   "id": "82033c3d",
   "metadata": {},
   "outputs": [],
   "source": [
    "# String \n",
    "\n",
    "str = 'pwskills'  # str variable containing string data\n",
    "\n",
    "# List \n",
    "\n",
    "lis = ['a','b', 23.4, 33, True]  # lis variable containing list data\n",
    "\n",
    "# Float \n",
    "\n",
    "fl = 56.3  # fl variable containing float data typ\n",
    "\n",
    "# Tuple \n",
    "\n",
    "tp = (78, 54.34, 'pw', True) # tp variable containing tuple data "
   ]
  },
  {
   "cell_type": "raw",
   "id": "9e294b42",
   "metadata": {},
   "source": [
    "Q2. Given are some following variables containing data:\n",
    "(i) var1 = ‘ ‘\n",
    "(ii) var2 = ‘[ DS , ML , Python]’\n",
    "(iii) var3 = [ ‘DS’ , ’ML’ , ‘Python’ ]\n",
    "(iv) var4 = 1."
   ]
  },
  {
   "cell_type": "code",
   "execution_count": 21,
   "id": "ba28179c",
   "metadata": {},
   "outputs": [],
   "source": [
    "# 1\n",
    "var1 = ' '  # var1 is containing string data type \n",
    "\n",
    "# 2\n",
    "var2 = '[ DS , ML , Python]'  # var2 is containing string data type \n",
    "\n",
    "# 3 \n",
    "var3 = [ 'DS', 'ML', 'Python'] # var3 is containing list data type\n",
    "\n",
    "# 4 \n",
    "var4 = 1  # var4 is containing int data type "
   ]
  },
  {
   "cell_type": "raw",
   "id": "3167e6de",
   "metadata": {},
   "source": [
    "Q3. Explain the use of the following operators using an example:\n",
    "(i) /\n",
    "(ii) %\n",
    "(iii) //\n",
    "(iv) **"
   ]
  },
  {
   "cell_type": "code",
   "execution_count": 22,
   "id": "8f8cd654",
   "metadata": {},
   "outputs": [
    {
     "name": "stdout",
     "output_type": "stream",
     "text": [
      "3.3333333333333335\n"
     ]
    }
   ],
   "source": [
    "# (i) `/` (Division Operator):\n",
    "#    - The `/` operator is used for division in most programming languages.\n",
    "#    - It divides the left operand by the right operand and returns the result as a floating-point number.\n",
    "#    - Example:\n",
    "\n",
    "result = 10 / 3\n",
    "print(result)"
   ]
  },
  {
   "cell_type": "code",
   "execution_count": 23,
   "id": "888e6699",
   "metadata": {},
   "outputs": [
    {
     "name": "stdout",
     "output_type": "stream",
     "text": [
      "1\n"
     ]
    }
   ],
   "source": [
    "# (ii) % (Modulus Operator):\n",
    "\n",
    "# The % operator is used for finding the remainder when the left operand is divided by the right operand.\n",
    "\n",
    "# It's often used to check if a number is even or odd (e.g., x % 2 to check if x is even).\n",
    "\n",
    "remainder = 10 % 3\n",
    "print(remainder)  "
   ]
  },
  {
   "cell_type": "code",
   "execution_count": 24,
   "id": "f875a3c7",
   "metadata": {},
   "outputs": [
    {
     "name": "stdout",
     "output_type": "stream",
     "text": [
      "3\n"
     ]
    }
   ],
   "source": [
    "# (iii) // (Floor Division Operator):\n",
    "\n",
    "# The // operator is used for floor division, which means it divides the left operand by the right \n",
    "# operand and returns the largest integer less than or equal to the result.\n",
    "\n",
    "# It's commonly used when you want to obtain an integer result from division.\n",
    "\n",
    "result = 10 // 3\n",
    "print(result) "
   ]
  },
  {
   "cell_type": "code",
   "execution_count": 25,
   "id": "4cf3fc04",
   "metadata": {},
   "outputs": [
    {
     "name": "stdout",
     "output_type": "stream",
     "text": [
      "8\n"
     ]
    }
   ],
   "source": [
    "# (iv) (Exponentiation Operator):\n",
    "\n",
    "# The  operator is used for exponentiation, which means it raises the left operand to the power of the right operand.\n",
    "\n",
    "# It's used to calculate exponential values.\n",
    "\n",
    "result = 2 ** 3\n",
    "print(result)"
   ]
  },
  {
   "cell_type": "raw",
   "id": "b6c4577c",
   "metadata": {},
   "source": [
    "Q4. Create a list of length 10 of your choice containing multiple types of data. Using for loop print the\n",
    "element and its data type."
   ]
  },
  {
   "cell_type": "code",
   "execution_count": 26,
   "id": "d895d693",
   "metadata": {},
   "outputs": [
    {
     "name": "stdout",
     "output_type": "stream",
     "text": [
      "Element: 10, Data Type: <class 'int'>\n",
      "Element: pwskills, Data Type: <class 'str'>\n",
      "Element: 3.14159, Data Type: <class 'float'>\n",
      "Element: True, Data Type: <class 'bool'>\n",
      "Element: [1, 2, 3], Data Type: <class 'list'>\n",
      "Element: {'name': 'pankaj', 'age': 30}, Data Type: <class 'dict'>\n",
      "Element: None, Data Type: <class 'NoneType'>\n",
      "Element: (4, 5), Data Type: <class 'tuple'>\n",
      "Element: False, Data Type: <class 'bool'>\n",
      "Element: 2.71828, Data Type: <class 'float'>\n"
     ]
    }
   ],
   "source": [
    "my_list = [10, \"pwskills\", 3.14159, True, [1, 2, 3], {'name': 'pankaj', 'age': 30}, None, (4, 5), False, 2.71828]\n",
    "\n",
    "for item in my_list:\n",
    "    print(f\"Element: {item}, Data Type: {type(item)}\")\n"
   ]
  },
  {
   "cell_type": "raw",
   "id": "9454f607",
   "metadata": {},
   "source": [
    "Q5. Using a while loop, verify if the number A is purely divisible by number B and if so then how many\n",
    "times it can be divisible."
   ]
  },
  {
   "cell_type": "code",
   "execution_count": 27,
   "id": "e3981270",
   "metadata": {},
   "outputs": [
    {
     "name": "stdout",
     "output_type": "stream",
     "text": [
      "Enter the dividend (A): 50\n",
      "Enter the divisor (B): 5\n",
      "2 times 5 can divide 2 evenly.\n"
     ]
    }
   ],
   "source": [
    "# Input values for A and B\n",
    "A = int(input(\"Enter the dividend (A): \"))\n",
    "B = int(input(\"Enter the divisor (B): \"))\n",
    "\n",
    "# Initialize a counter to keep track of how many times A can be divided by B\n",
    "count = 0\n",
    "\n",
    "# Verify if A is divisible by B and calculate the number of times it can be divided\n",
    "while A >= B and B != 0:\n",
    "    if A % B == 0:\n",
    "        A = A // B  # Divide A by B\n",
    "        count += 1\n",
    "    else:\n",
    "        break  # If not divisible, exit the loop\n",
    "\n",
    "if B == 0:\n",
    "    print(\"Division by zero is not allowed.\")\n",
    "else:\n",
    "    print(f\"{count} times {B} can divide {A} evenly.\")\n"
   ]
  },
  {
   "cell_type": "raw",
   "id": "66cccd37",
   "metadata": {},
   "source": [
    "Q6. Create a list containing 25 int type data. Using for loop and if-else condition print if the element is\n",
    "divisible by 3 or not."
   ]
  },
  {
   "cell_type": "code",
   "execution_count": 28,
   "id": "8f1a333f",
   "metadata": {},
   "outputs": [
    {
     "name": "stdout",
     "output_type": "stream",
     "text": [
      "12 is divisible by 3\n",
      "6 is divisible by 3\n",
      "9 is divisible by 3\n",
      "25 is not divisible by 3\n",
      "18 is divisible by 3\n",
      "30 is divisible by 3\n",
      "8 is not divisible by 3\n",
      "7 is not divisible by 3\n",
      "21 is divisible by 3\n",
      "14 is not divisible by 3\n",
      "5 is not divisible by 3\n",
      "33 is divisible by 3\n",
      "11 is not divisible by 3\n",
      "27 is divisible by 3\n",
      "15 is divisible by 3\n",
      "42 is divisible by 3\n",
      "22 is not divisible by 3\n",
      "17 is not divisible by 3\n",
      "36 is divisible by 3\n",
      "19 is not divisible by 3\n",
      "24 is divisible by 3\n",
      "13 is not divisible by 3\n",
      "4 is not divisible by 3\n",
      "10 is not divisible by 3\n",
      "20 is not divisible by 3\n"
     ]
    }
   ],
   "source": [
    "# Create a list of 25 integers\n",
    "my_list = [12, 6, 9, 25, 18, 30, 8, 7, 21, 14, 5, 33, 11, 27, 15, 42, 22, 17, 36, 19, 24, 13, 4, 10, 20]\n",
    "\n",
    "# Iterate through the list and check if each element is divisible by 3\n",
    "for num in my_list:\n",
    "    if num % 3 == 0:\n",
    "        print(f\"{num} is divisible by 3\")\n",
    "    else:\n",
    "        print(f\"{num} is not divisible by 3\")\n"
   ]
  },
  {
   "cell_type": "raw",
   "id": "64d3b400",
   "metadata": {},
   "source": [
    "Q7. What do you understand about mutable and immutable data types? Give examples for both showing\n",
    "this property."
   ]
  },
  {
   "cell_type": "raw",
   "id": "25b97e23",
   "metadata": {},
   "source": [
    "Mutable and immutable data types are two fundamental concepts in programming that describe \n",
    "whether the values of a data type can be changed after they are created.\n",
    "\n",
    "1 - Immutable Data Types:\n",
    "\n",
    "Immutable data types are those whose values cannot be modified once they are created. \n",
    "If you want to change an immutable data type's value, you must create a new object with the modified value.\n",
    "\n",
    "Examples of immutable data types in Python include:\n",
    "Integers: Once you create an integer, you cannot change its value.\n",
    "Floats: Floating-point numbers are also immutable.\n",
    "Strings: Strings in Python are immutable. If you want to change a string, you create a new one.\n",
    "Tuples: Tuples are collections of elements that cannot be modified once created."
   ]
  },
  {
   "cell_type": "code",
   "execution_count": 29,
   "id": "84155936",
   "metadata": {},
   "outputs": [
    {
     "name": "stdout",
     "output_type": "stream",
     "text": [
      "Hello\n",
      "Hello, World!\n"
     ]
    }
   ],
   "source": [
    "# Strings are immutable\n",
    "original_string = \"Hello\"\n",
    "modified_string = original_string + \", World!\"\n",
    "print(original_string)  # Output: \"Hello\"\n",
    "print(modified_string)  # Output: \"Hello, World!\"\n",
    "\n",
    "# Tuples are immutable\n",
    "original_tuple = (1, 2, 3)\n",
    "# Attempting to modify the tuple will result in an error\n"
   ]
  },
  {
   "cell_type": "raw",
   "id": "42bf4e4b",
   "metadata": {},
   "source": [
    " 2 - Mutable Data Types:\n",
    "\n",
    "Mutable data types are those whose values can be modified after they are created. \n",
    "This means you can change elements within the data type without creating a new object.\n",
    "\n",
    "Examples of mutable data types in Python include:\n",
    "Lists: Lists can be modified by adding, removing, or changing elements.\n",
    "Dictionaries: Dictionary values can be modified by adding, removing, or updating key-value pairs.\n",
    "Sets: Sets can be modified by adding or removing elements."
   ]
  },
  {
   "cell_type": "code",
   "execution_count": 30,
   "id": "8309b587",
   "metadata": {},
   "outputs": [
    {
     "name": "stdout",
     "output_type": "stream",
     "text": [
      "[1, 2, 3, 4]\n",
      "{'name': 'John', 'age': 31}\n",
      "{1, 2, 3, 4}\n"
     ]
    }
   ],
   "source": [
    "# Lists are mutable\n",
    "my_list = [1, 2, 3]\n",
    "my_list.append(4)  # Modifying the list by adding an element\n",
    "print(my_list)  # Output: [1, 2, 3, 4]\n",
    "\n",
    "# Dictionaries are mutable\n",
    "my_dict = {'name': 'John', 'age': 30}\n",
    "my_dict['age'] = 31  # Modifying a dictionary value\n",
    "print(my_dict)  # Output: {'name': 'John', 'age': 31}\n",
    "\n",
    "# Sets are mutable\n",
    "my_set = {1, 2, 3}\n",
    "my_set.add(4)  # Modifying the set by adding an element\n",
    "print(my_set)  # Output: {1, 2, 3, 4}\n"
   ]
  },
  {
   "cell_type": "code",
   "execution_count": null,
   "id": "e6960655",
   "metadata": {},
   "outputs": [],
   "source": []
  }
 ],
 "metadata": {
  "kernelspec": {
   "display_name": "Python 3 (ipykernel)",
   "language": "python",
   "name": "python3"
  },
  "language_info": {
   "codemirror_mode": {
    "name": "ipython",
    "version": 3
   },
   "file_extension": ".py",
   "mimetype": "text/x-python",
   "name": "python",
   "nbconvert_exporter": "python",
   "pygments_lexer": "ipython3",
   "version": "3.9.12"
  }
 },
 "nbformat": 4,
 "nbformat_minor": 5
}
