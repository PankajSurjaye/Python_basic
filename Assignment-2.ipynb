{
 "cells": [
  {
   "cell_type": "markdown",
   "id": "cfb70b0d",
   "metadata": {},
   "source": [
    "# Assignment -2"
   ]
  },
  {
   "cell_type": "markdown",
   "id": "9e501937",
   "metadata": {},
   "source": [
    "Q1. How do you comment code in Python? What are the different types of comments?\n",
    "Answer :-\n",
    "\n",
    "In Python, you can add comments to your code to provide explanations, notes, or documentation for yourself and others who read your code. Comments are not executed as part of the program and are purely for human readability. There are two main types of comments in Python:\n",
    "\n",
    "1. Single-line comments: Single-line comments are used to add comments on a single line. In Python, you can create a single-line comment using the `#` symbol. Anything following the `#` symbol on the same line is treated as a comment and is ignored by the Python interpreter.\n",
    "\n",
    "   ```python\n",
    "   # This is a single-line comment\n",
    "   print(\"Hello, World\")  # This comment is at the end of the line\n",
    "   ```\n",
    "\n",
    "2. Multi-line comments (docstrings): Python does not have a specific syntax for multi-line comments like some other programming languages. Instead, multi-line comments are typically created using triple-quoted strings (either single or double quotes). These are often referred to as \"docstrings\" and are used for documentation purposes. While they are not ignored by the interpreter, they are commonly used for function and module documentation.\n",
    "\n",
    "   ```python\n",
    "   '''\n",
    "   This is a multi-line comment (docstring).\n",
    "   It can span multiple lines.\n",
    "   '''\n",
    "   \n",
    "   \"\"\"\n",
    "   This is another way to create a multi-line comment (docstring).\n",
    "   It can also span multiple lines.\n",
    "   \"\"\"\n",
    "   ```\n"
   ]
  },
  {
   "cell_type": "markdown",
   "id": "dcbc67c9",
   "metadata": {},
   "source": [
    "Q2. What are variables in Python? How do you declare and assign values to variables?\n",
    "\n",
    "Answer :-\n",
    "    \n",
    "    In Python, variables are used to store and manipulate data. A variable is essentially a name or identifier that references a location in memory where a value is stored. These values can be of various data types, such as numbers, strings, lists, and more.\n",
    "\n",
    "Here's how you declare and assign values to variables in Python:\n",
    "\n",
    "1. **Variable Declaration**:\n",
    "   In Python, you don't need to explicitly declare the data type of a variable. You simply provide a name for the variable, and Python will infer the data type based on the value you assign to it.\n",
    "\n",
    "   Variable names in Python must follow these rules:\n",
    "   - Must start with a letter (a-z, A-Z) or an underscore (_).\n",
    "   - Can only contain letters, numbers, and underscores.\n",
    "   - Are case-sensitive (e.g., `myVar` and `myvar` are treated as different variables).\n",
    "\n",
    "2. **Variable Assignment**:\n",
    "   You can assign a value to a variable using the assignment operator `=`.\n",
    "\n",
    "   ```python\n",
    "   # Variable assignment\n",
    "   my_var = 42  # Assigning an integer value to my_var\n",
    "   name = \"Alice\"  # Assigning a string value to name\n",
    "   pi_value = 3.14159  # Assigning a floating-point value to pi_value\n",
    "   ```"
   ]
  },
  {
   "cell_type": "markdown",
   "id": "634d54cb",
   "metadata": {},
   "source": [
    "Q3. How do you convert one data type to another in Python?\n",
    "\n",
    "Answer :-\n",
    "\n",
    "In Python, you can convert one data type to another using a process called \"type conversion\" or \"type casting.\" Python provides several built-in functions for type conversion. Here are some common type conversion functions:\n",
    "\n",
    "1. **`int(x)`**: Converts `x` to an integer. If `x` is a float, it truncates the decimal part. If `x` is a string, it should represent an integer.\n",
    "\n",
    "   ```python\n",
    "   float_num = 3.5\n",
    "   int_num = int(float_num)  # Converts 3.5 to 3\n",
    "   ```\n",
    "\n",
    "2. **`float(x)`**: Converts `x` to a floating-point number. It works for integers, strings representing floats, or other numeric types.\n",
    "\n",
    "   ```python\n",
    "   int_num = 42\n",
    "   float_num = float(int_num)  # Converts 42 to 42.0\n",
    "   ```\n",
    "\n",
    "3. **`str(x)`**: Converts `x` to a string. This is useful for converting numbers or other data types to strings.\n",
    "\n",
    "   ```python\n",
    "   num = 123\n",
    "   num_str = str(num)  # Converts 123 to \"123\"\n",
    "   ```\n",
    "\n",
    "4. **`list(x)`**: Converts `x` to a list. This can be used to convert tuples, strings, or other iterable objects to lists.\n",
    "\n",
    "   ```python\n",
    "   tuple_data = (1, 2, 3)\n",
    "   list_data = list(tuple_data)  # Converts (1, 2, 3) to [1, 2, 3]\n",
    "   ```\n",
    "\n",
    "5. **`tuple(x)`**: Converts `x` to a tuple. This can be used to convert lists, strings, or other iterable objects to tuples.\n",
    "\n",
    "   ```python\n",
    "   list_data = [1, 2, 3]\n",
    "   tuple_data = tuple(list_data)  # Converts [1, 2, 3] to (1, 2, 3)\n",
    "   ```\n",
    "\n",
    "6. **`bool(x)`**: Converts `x` to a Boolean value. Generally, numbers and non-empty objects evaluate to `True`, while zero, empty objects, and `None` evaluate to `False`.\n",
    "\n",
    "   ```python\n",
    "   value = 42\n",
    "   bool_value = bool(value)  # Converts 42 to True\n",
    "\n",
    "   empty_list = []\n",
    "   bool_empty_list = bool(empty_list)  # Converts an empty list to False\n",
    "   ```\n",
    "\n",
    "7. **`set(x)`**: Converts `x` to a set. This can be used to convert lists, tuples, or other iterable objects to sets.\n",
    "\n",
    "   ```python\n",
    "   list_data = [1, 2, 2, 3, 3, 3]\n",
    "   set_data = set(list_data)  # Converts [1, 2, 2, 3, 3, 3] to {1, 2, 3}\n",
    "   ```"
   ]
  },
  {
   "cell_type": "markdown",
   "id": "b997711b",
   "metadata": {},
   "source": [
    "Q4. How do you write and execute a Python script from the command line?\n",
    "\n",
    "Answer :-\n",
    "    \n",
    "To write and execute a Python script from the command line, follow these steps:\n",
    "\n",
    "**Step 1: Write Your Python Script**\n",
    "\n",
    "Use a text editor or integrated development environment (IDE) to write your Python script. Save the script with a `.py` extension, which is the standard file extension for Python scripts.\n",
    "\n",
    "For example, let's create a simple Python script called `my_script.py` that prints \"Hello, World!\" to the console:\n",
    "\n",
    "```python\n",
    "# my_script.py\n",
    "\n",
    "print(\"Hello, World!\")\n",
    "```\n",
    "\n",
    "**Step 2: Open the Command Line**\n",
    "\n",
    "Open a command prompt or terminal window on your computer. The method for doing this varies depending on your operating system:\n",
    "\n",
    "- **Windows**: You can open Command Prompt or PowerShell by searching for \"cmd\" or \"PowerShell\" in the Start menu.\n",
    "\n",
    "- **macOS**: Open the Terminal application, which you can find in the Utilities folder within the Applications folder.\n",
    "\n",
    "- **Linux**: Use your system's terminal emulator, such as GNOME Terminal, Konsole, or xterm, depending on your desktop environment.\n",
    "\n",
    "**Step 3: Navigate to the Script's Directory (Optional)**\n",
    "\n",
    "If your Python script is not in the current working directory of the command line, use the `cd` command to navigate to the directory where your script is located. For example, if your script is in the \"Documents\" folder, you can navigate to it like this:\n",
    "\n",
    "```bash\n",
    "cd Documents\n",
    "```\n",
    "\n",
    "**Step 4: Run the Python Script**\n",
    "\n",
    "To execute your Python script, you can use the `python` command followed by the name of your script file (including the `.py` extension). For example:\n",
    "\n",
    "```bash\n",
    "python my_script.py\n",
    "```\n",
    "\n",
    "If you have multiple versions of Python installed, you may need to specify the version you want to use by specifying the version number (e.g., `python3` for Python 3.x) if the default version is not what you want.\n",
    "\n",
    "```bash\n",
    "python3 my_script.py\n",
    "```\n",
    "\n",
    "**Step 5: View the Output**\n",
    "\n",
    "After executing the script, the output will be displayed in the command line. In the case of our example script, you should see \"Hello, World!\" printed to the console.\n",
    "\n",
    "That's it! You've successfully written and executed a Python script from the command line. You can now use this process to run Python scripts on your computer for various tasks and projects."
   ]
  },
  {
   "cell_type": "markdown",
   "id": "e6af9344",
   "metadata": {},
   "source": [
    "Q5. Given a list my_list = [1, 2, 3, 4, 5], write the code to slice the list and obtain the sub-list [2, 3].\n",
    "\n",
    "Answer :-"
   ]
  },
  {
   "cell_type": "code",
   "execution_count": 3,
   "id": "3d2742bd",
   "metadata": {},
   "outputs": [
    {
     "name": "stdout",
     "output_type": "stream",
     "text": [
      "[2, 3]\n"
     ]
    }
   ],
   "source": [
    "my_list = [1, 2, 3, 4, 5]\n",
    "\n",
    "# Use list slicing to obtain the sub-list [2, 3]\n",
    "sub_list = my_list[1:3]\n",
    "\n",
    "# Print the sub-list\n",
    "print(sub_list)\n"
   ]
  },
  {
   "cell_type": "markdown",
   "id": "5e5ae74d",
   "metadata": {},
   "source": [
    "**Q6. What is a complex number in mathematics, and how is it represented in Python?**\n",
    "\n",
    "Answer :-\n",
    "    \n",
    "In mathematics, a complex number is a number that can be expressed in the form `a + bi`, where:\n",
    "- `a` is the real part of the complex number.\n",
    "- `b` is the imaginary part of the complex number.\n",
    "- `i` is the imaginary unit, defined as the square root of -1.\n",
    "\n",
    "Complex numbers are a mathematical concept used to represent numbers that involve both real and imaginary parts. They are particularly useful in various branches of mathematics, physics, engineering, and signal processing.\n",
    "\n",
    "In Python, complex numbers are represented using the `complex` data type. You can create complex numbers by using the `complex()` constructor or by simply writing them in the form `a + bj`, where `a` and `b` are the real and imaginary parts, respectively.\n",
    "\n",
    "Here are some examples of complex numbers in Python:\n",
    "\n",
    "```python\n",
    "# Using the complex() constructor\n",
    "z1 = complex(3, 4)  # 3 + 4i\n",
    "\n",
    "# Using the 'j' notation\n",
    "z2 = 1 + 2j  # 1 + 2i\n",
    "\n",
    "# Complex number with a zero real part\n",
    "z3 = 0 + 5j  # 5i\n",
    "\n",
    "# Complex number with a zero imaginary part\n",
    "z4 = 2 - 0j  # 2\n",
    "```\n",
    "\n",
    "You can perform various mathematical operations with complex numbers in Python, such as addition, subtraction, multiplication, and division, just like you would with real numbers. Python's standard library provides functions and methods for complex number operations.\n",
    "\n",
    "Here's an example of performing some basic operations with complex numbers in Python:\n",
    "\n",
    "```python\n",
    "# Complex number addition\n",
    "result_add = z1 + z2  # (3 + 4i) + (1 + 2i) = (4 + 6i)\n",
    "\n",
    "# Complex number subtraction\n",
    "result_sub = z1 - z2  # (3 + 4i) - (1 + 2i) = (2 + 2i)\n",
    "\n",
    "# Complex number multiplication\n",
    "result_mul = z1 * z2  # (3 + 4i) * (1 + 2i) = (-5 + 10i)\n",
    "\n",
    "# Complex number division\n",
    "result_div = z1 / z2  # (3 + 4i) / (1 + 2i) = (2 + 0i)\n",
    "```\n",
    "\n",
    "Complex numbers are a powerful tool for solving problems that involve quantities with both real and imaginary components, and Python provides robust support for working with them in your programs."
   ]
  },
  {
   "cell_type": "markdown",
   "id": "94783627",
   "metadata": {},
   "source": [
    "**Q7. What is the correct way to declare a variable named age and assign the value 25 to it?**\n",
    "\n",
    "Answer :-"
   ]
  },
  {
   "cell_type": "code",
   "execution_count": 5,
   "id": "aa2ffd0b",
   "metadata": {},
   "outputs": [],
   "source": [
    "age = 25"
   ]
  },
  {
   "cell_type": "markdown",
   "id": "f8378022",
   "metadata": {},
   "source": [
    "**Q8. Declare a variable named price and assign the value 9.99 to it. What data type does this variable\n",
    "belong to?**\n",
    "\n",
    "Answer :-"
   ]
  },
  {
   "cell_type": "code",
   "execution_count": 8,
   "id": "d87f8952",
   "metadata": {},
   "outputs": [
    {
     "name": "stdout",
     "output_type": "stream",
     "text": [
      "<class 'float'>\n"
     ]
    }
   ],
   "source": [
    "price = 9.99\n",
    "\n",
    "print(type(price)) #there is float type of price variable."
   ]
  },
  {
   "cell_type": "markdown",
   "id": "73a4f445",
   "metadata": {},
   "source": [
    "**Q9. Create a variable named name and assign your full name to it as a string. How would you print the\n",
    "value of this variable?**\n",
    "\n",
    "Answer :-"
   ]
  },
  {
   "cell_type": "code",
   "execution_count": 10,
   "id": "c3e1a4ea",
   "metadata": {},
   "outputs": [
    {
     "name": "stdout",
     "output_type": "stream",
     "text": [
      "Pankaj Surjaye\n"
     ]
    }
   ],
   "source": [
    "# The input string\n",
    "name = \"Pankaj Surjaye\"\n",
    "\n",
    "print(name)"
   ]
  },
  {
   "cell_type": "markdown",
   "id": "b3555820",
   "metadata": {},
   "source": [
    "**Q10. Given the string \"Hello, World!\", extract the substring \"World\".**\n",
    "\n",
    "Answer :-"
   ]
  },
  {
   "cell_type": "code",
   "execution_count": 11,
   "id": "7bda40e9",
   "metadata": {},
   "outputs": [
    {
     "name": "stdout",
     "output_type": "stream",
     "text": [
      "World\n"
     ]
    }
   ],
   "source": [
    "# The input string\n",
    "input_string = \"Hello, World!\"\n",
    "\n",
    "# Extract the substring \"World\"\n",
    "substring = input_string[7:12]\n",
    "\n",
    "# Print the extracted substring\n",
    "print(substring)\n"
   ]
  },
  {
   "cell_type": "markdown",
   "id": "2b5e6062",
   "metadata": {},
   "source": [
    "**Q11. Create a variable named \"is_student\" and assign it a boolean value indicating whether you are\n",
    "currently a student or not.**\n",
    "\n",
    "Answer :-"
   ]
  },
  {
   "cell_type": "code",
   "execution_count": 12,
   "id": "953f4b77",
   "metadata": {},
   "outputs": [],
   "source": [
    "is_student = True  # If you are currently a student\n",
    "# or\n",
    "is_student = False  # If you are not currently a student\n"
   ]
  },
  {
   "cell_type": "code",
   "execution_count": null,
   "id": "d2a9cdbd",
   "metadata": {},
   "outputs": [],
   "source": []
  }
 ],
 "metadata": {
  "kernelspec": {
   "display_name": "Python 3 (ipykernel)",
   "language": "python",
   "name": "python3"
  },
  "language_info": {
   "codemirror_mode": {
    "name": "ipython",
    "version": 3
   },
   "file_extension": ".py",
   "mimetype": "text/x-python",
   "name": "python",
   "nbconvert_exporter": "python",
   "pygments_lexer": "ipython3",
   "version": "3.9.12"
  }
 },
 "nbformat": 4,
 "nbformat_minor": 5
}
