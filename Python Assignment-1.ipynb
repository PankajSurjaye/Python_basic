{
 "cells": [
  {
   "cell_type": "markdown",
   "id": "76cbdb0f",
   "metadata": {},
   "source": [
    "# Python Assignment-1"
   ]
  },
  {
   "cell_type": "code",
   "execution_count": 1,
   "id": "aa89d34c",
   "metadata": {},
   "outputs": [],
   "source": [
    "# Q1. Which keyword is used to create a function? Create a function to return a list of odd numbers in the\n",
    "# range of 1 to 25."
   ]
  },
  {
   "cell_type": "code",
   "execution_count": 2,
   "id": "6b9c44aa",
   "metadata": {},
   "outputs": [],
   "source": [
    "# def keyword is used to create a function.\n",
    "# funtion to return a list of of add numbers in the range of 1 to 25 \n",
    "\n",
    "def get_odd_num():\n",
    "    odd_num = []\n",
    "    for i in range(1,26):\n",
    "        if i%2 !=0:\n",
    "            odd_num.append(i)\n",
    "    return odd_num"
   ]
  },
  {
   "cell_type": "code",
   "execution_count": 4,
   "id": "16667893",
   "metadata": {},
   "outputs": [
    {
     "data": {
      "text/plain": [
       "[1, 3, 5, 7, 9, 11, 13, 15, 17, 19, 21, 23, 25]"
      ]
     },
     "execution_count": 4,
     "metadata": {},
     "output_type": "execute_result"
    }
   ],
   "source": [
    "# Call the function to get the list of odd numbers\n",
    "get_odd_num()"
   ]
  },
  {
   "cell_type": "code",
   "execution_count": 5,
   "id": "5b30a2ae",
   "metadata": {},
   "outputs": [],
   "source": [
    "# Q2. Why *args and **kwargs is used in some functions? Create a function each for *args and **kwargs\n",
    "# to demonstrate their use."
   ]
  },
  {
   "cell_type": "code",
   "execution_count": 6,
   "id": "f9dd2c3a",
   "metadata": {},
   "outputs": [],
   "source": [
    "# *args and **kwargs are used in Python to pass a variable number of arguments to a function. \n",
    "# They are often used when you want to create flexible functions that can accept a varying number of \n",
    "# positional arguments and keyword arguments.\n",
    "\n",
    "# Here are examples of functions that use *args and **kwargs:"
   ]
  },
  {
   "cell_type": "code",
   "execution_count": 7,
   "id": "fffe7e0c",
   "metadata": {},
   "outputs": [
    {
     "name": "stdout",
     "output_type": "stream",
     "text": [
      "15\n"
     ]
    }
   ],
   "source": [
    "# 1. Using *args:\n",
    "\n",
    "# *args allows you to pass a variable number of positional arguments to a function. \n",
    "# These arguments are collected into a tuple within the function.\n",
    "\n",
    "def sum_numbers(*args):\n",
    "    result = 0\n",
    "    for num in args:\n",
    "        result += num\n",
    "    return result\n",
    "\n",
    "# Example of using the function\n",
    "total = sum_numbers(1, 2, 3, 4, 5)\n",
    "print(total)"
   ]
  },
  {
   "cell_type": "code",
   "execution_count": 8,
   "id": "948ad953",
   "metadata": {},
   "outputs": [
    {
     "name": "stdout",
     "output_type": "stream",
     "text": [
      "name: Alice\n",
      "age: 30\n",
      "city: New York\n"
     ]
    }
   ],
   "source": [
    "# 2. Using **kwargs:\n",
    "\n",
    "# **kwargs allows you to pass a variable number of keyword arguments (i.e., arguments with names) to a function.\n",
    "# These arguments are collected into a dictionary within the function.\n",
    "\n",
    "def display_info(**kwargs):\n",
    "    for key, value in kwargs.items():\n",
    "        print(f\"{key}: {value}\")\n",
    "\n",
    "# Example of using the function\n",
    "display_info(name=\"Alice\", age=30, city=\"New York\")\n"
   ]
  },
  {
   "cell_type": "code",
   "execution_count": 9,
   "id": "f40874b3",
   "metadata": {},
   "outputs": [],
   "source": [
    "# Q3. What is an iterator in python? Name the method used to initialise the iterator object and the method\n",
    "# used for iteration. Use these methods to print the first five elements of the given list [2, 4, 6, 8, 10, 12, 14,\n",
    "# 16, 18, 20]."
   ]
  },
  {
   "cell_type": "code",
   "execution_count": 10,
   "id": "e4b1f2ff",
   "metadata": {},
   "outputs": [],
   "source": [
    "# In Python, an iterator is an object that represents a stream of data. It allows you to \n",
    "# traverse through elements of a collection (e.g., a list, tuple, or dictionary) one at a time,\n",
    "# without the need to load the entire collection into memory. Iterators are typically used in for loops.\n",
    "\n",
    "# To work with iterators, you can use two methods:\n",
    "\n",
    "# Initialization Method: To create an iterator object, you use the iter() method. \n",
    "#     It's applied to the iterable (e.g., a list) to get an iterator.\n",
    "\n",
    "# Iteration Method: To traverse through the elements of the iterator, you use the next() method.\n",
    "\n",
    "# Here's how you can use these methods to print the first five elements of the given list [2, 4, 6, 8, 10, 12, 14, 16, 18, 20]:"
   ]
  },
  {
   "cell_type": "code",
   "execution_count": 11,
   "id": "0563aa64",
   "metadata": {},
   "outputs": [
    {
     "name": "stdout",
     "output_type": "stream",
     "text": [
      "2\n",
      "4\n",
      "6\n",
      "8\n",
      "10\n"
     ]
    }
   ],
   "source": [
    "# Create an iterator object from the list\n",
    "my_list = [2, 4, 6, 8, 10, 12, 14, 16, 18, 20]\n",
    "iterator = iter(my_list)\n",
    "\n",
    "# Print the first five elements using the next() method\n",
    "for _ in range(5):\n",
    "    element = next(iterator)\n",
    "    print(element)"
   ]
  },
  {
   "cell_type": "code",
   "execution_count": 12,
   "id": "f0afc639",
   "metadata": {},
   "outputs": [],
   "source": [
    "# Q4. What is a generator function in python? Why yield keyword is used? Give an example of a generator\n",
    "# function."
   ]
  },
  {
   "cell_type": "code",
   "execution_count": 13,
   "id": "73ed177a",
   "metadata": {},
   "outputs": [],
   "source": [
    "# A generator function in Python is a special type of function that allows you to create an iterator \n",
    "# without the need to store the entire sequence in memory. It's defined using a def statement like a \n",
    "# regular function, but it contains one or more yield statements. When a generator function is called, \n",
    "# it returns a generator object, which can be used to iterate over the values one at a time. The key advantage \n",
    "# of generators is that they are memory-efficient because they produce values on the fly as you iterate over them, \n",
    "# rather than precomputing and storing all values in memory.\n",
    "\n",
    "# The yield keyword is used in a generator function to indicate where the function should \"pause\" and yield a value\n",
    "# to the caller, while preserving its local state. When the generator is iterated, it resumes execution from where \n",
    "# it was paused. This allows you to generate values lazily and efficiently.\n",
    "\n",
    "# Here's an example of a generator function that generates a sequence of numbers:"
   ]
  },
  {
   "cell_type": "code",
   "execution_count": 14,
   "id": "f0a03fe6",
   "metadata": {},
   "outputs": [
    {
     "name": "stdout",
     "output_type": "stream",
     "text": [
      "1\n",
      "2\n",
      "3\n",
      "4\n",
      "5\n"
     ]
    }
   ],
   "source": [
    "def number_generator(n):\n",
    "    i = 1\n",
    "    while i <= n:\n",
    "        yield i\n",
    "        i += 1\n",
    "\n",
    "# Create a generator object\n",
    "gen = number_generator(5)\n",
    "\n",
    "# Iterating over the generator to get values one at a time\n",
    "for num in gen:\n",
    "    print(num)\n"
   ]
  },
  {
   "cell_type": "code",
   "execution_count": 15,
   "id": "9f85b239",
   "metadata": {},
   "outputs": [],
   "source": [
    "# Q5. Create a generator function for prime numbers less than 1000. Use the next() method to print the\n",
    "# first 20 prime numbers."
   ]
  },
  {
   "cell_type": "code",
   "execution_count": 16,
   "id": "4ff3c51b",
   "metadata": {},
   "outputs": [
    {
     "name": "stdout",
     "output_type": "stream",
     "text": [
      "2\n",
      "3\n",
      "5\n",
      "7\n",
      "11\n",
      "13\n",
      "17\n",
      "19\n",
      "23\n",
      "29\n",
      "31\n",
      "37\n",
      "41\n",
      "43\n",
      "47\n",
      "53\n",
      "59\n",
      "61\n",
      "67\n",
      "71\n"
     ]
    }
   ],
   "source": [
    "def is_prime(number):\n",
    "    if number < 2:\n",
    "        return False\n",
    "    for i in range(2, int(number**0.5) + 1):\n",
    "        if number % i == 0:\n",
    "            return False\n",
    "    return True\n",
    "\n",
    "def prime_generator(limit):\n",
    "    count = 0\n",
    "    number = 2\n",
    "    while count < limit:\n",
    "        if is_prime(number):\n",
    "            yield number\n",
    "            count += 1\n",
    "        number += 1\n",
    "\n",
    "# Create a generator object for prime numbers less than 1000\n",
    "prime_gen = prime_generator(20)\n",
    "\n",
    "# Use the next() method to print the first 20 prime numbers\n",
    "for _ in range(20):\n",
    "    prime = next(prime_gen)\n",
    "    print(prime)\n",
    "\n",
    "# In this code:\n",
    "\n",
    "# The is_prime function checks whether a given number is prime.\n",
    "# The prime_generator function is a generator function that generates prime numbers less than the specified limit.\n",
    "# We create a generator object prime_gen by calling prime_generator(20) to generate the first 20 prime numbers.\n",
    "# We use a loop to call next(prime_gen) 20 times to print the first 20 prime numbers using the next() method.\n",
    "# This code will generate and print the first 20 prime numbers less than 1000."
   ]
  },
  {
   "cell_type": "code",
   "execution_count": 17,
   "id": "86872e80",
   "metadata": {},
   "outputs": [],
   "source": [
    "# Q6. Write a python program to print the first 10 Fibonacci numbers using a while loop."
   ]
  },
  {
   "cell_type": "code",
   "execution_count": 18,
   "id": "a43831b8",
   "metadata": {},
   "outputs": [
    {
     "name": "stdout",
     "output_type": "stream",
     "text": [
      "0 1 1 2 3 5 8 13 21 34 "
     ]
    }
   ],
   "source": [
    "# Initialize the first two Fibonacci numbers\n",
    "a, b = 0, 1\n",
    "\n",
    "# Initialize a counter for the number of Fibonacci numbers to print\n",
    "count = 0\n",
    "\n",
    "# Specify the number of Fibonacci numbers to print\n",
    "n = 10\n",
    "\n",
    "# Use a while loop to print the first 10 Fibonacci numbers\n",
    "while count < n:\n",
    "    print(a, end=\" \")  # Print the current Fibonacci number\n",
    "    a, b = b, a + b  # Update a and b to the next Fibonacci numbers\n",
    "    count += 1\n",
    "\n",
    "# Output will be the first 10 Fibonacci numbers\n"
   ]
  },
  {
   "cell_type": "code",
   "execution_count": 19,
   "id": "71f85ead",
   "metadata": {},
   "outputs": [],
   "source": [
    "# Q7. Write a List Comprehension to iterate through the given string: ‘pwskills’.\n",
    "# Expected output: ['p', 'w', 's', 'k', 'i', 'l', 'l', 's']"
   ]
  },
  {
   "cell_type": "code",
   "execution_count": 20,
   "id": "65825149",
   "metadata": {},
   "outputs": [
    {
     "name": "stdout",
     "output_type": "stream",
     "text": [
      "['p', 'w', 's', 'k', 'i', 'l', 'l', 's']\n"
     ]
    }
   ],
   "source": [
    "input_string = 'pwskills'\n",
    "result = [char for char in input_string]\n",
    "\n",
    "print(result)\n"
   ]
  },
  {
   "cell_type": "code",
   "execution_count": 21,
   "id": "3166e2ab",
   "metadata": {},
   "outputs": [],
   "source": [
    "# Q8. Write a python program to check whether a given number is Palindrome or not using a while loop."
   ]
  },
  {
   "cell_type": "code",
   "execution_count": 22,
   "id": "4f91abef",
   "metadata": {},
   "outputs": [
    {
     "name": "stdout",
     "output_type": "stream",
     "text": [
      "Enter a number: 343\n",
      "343 is a palindrome.\n"
     ]
    }
   ],
   "source": [
    "def is_palindrome(number):\n",
    "    original_number = number\n",
    "    reverse_number = 0\n",
    "\n",
    "    while number > 0:\n",
    "        remainder = number % 10\n",
    "        reverse_number = reverse_number * 10 + remainder\n",
    "        number = number // 10\n",
    "\n",
    "    return original_number == reverse_number\n",
    "\n",
    "# Input a number to check for palindrome\n",
    "num = int(input(\"Enter a number: \"))\n",
    "\n",
    "if is_palindrome(num):\n",
    "    print(f\"{num} is a palindrome.\")\n",
    "else:\n",
    "    print(f\"{num} is not a palindrome.\")\n"
   ]
  },
  {
   "cell_type": "code",
   "execution_count": 23,
   "id": "a4b03ecb",
   "metadata": {},
   "outputs": [],
   "source": [
    "# Q9. Write a code to print odd numbers from 1 to 100 using list comprehension."
   ]
  },
  {
   "cell_type": "code",
   "execution_count": 24,
   "id": "a4382dcc",
   "metadata": {},
   "outputs": [
    {
     "name": "stdout",
     "output_type": "stream",
     "text": [
      "[1, 3, 5, 7, 9, 11, 13, 15, 17, 19, 21, 23, 25, 27, 29, 31, 33, 35, 37, 39, 41, 43, 45, 47, 49, 51, 53, 55, 57, 59, 61, 63, 65, 67, 69, 71, 73, 75, 77, 79, 81, 83, 85, 87, 89, 91, 93, 95, 97, 99]\n"
     ]
    }
   ],
   "source": [
    "odd_numbers = [num for num in range(1, 101) if num % 2 != 0]\n",
    "print(odd_numbers)\n"
   ]
  },
  {
   "cell_type": "code",
   "execution_count": null,
   "id": "d66bbe63",
   "metadata": {},
   "outputs": [],
   "source": []
  }
 ],
 "metadata": {
  "kernelspec": {
   "display_name": "Python 3 (ipykernel)",
   "language": "python",
   "name": "python3"
  },
  "language_info": {
   "codemirror_mode": {
    "name": "ipython",
    "version": 3
   },
   "file_extension": ".py",
   "mimetype": "text/x-python",
   "name": "python",
   "nbconvert_exporter": "python",
   "pygments_lexer": "ipython3",
   "version": "3.9.12"
  }
 },
 "nbformat": 4,
 "nbformat_minor": 5
}
