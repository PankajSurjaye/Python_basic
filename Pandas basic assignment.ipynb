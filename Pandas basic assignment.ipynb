{
 "cells": [
  {
   "cell_type": "code",
   "execution_count": 1,
   "id": "5871c461",
   "metadata": {},
   "outputs": [],
   "source": [
    "# Q.1 Create a Pandas Series that contains the following data: 4, 8, 15, 16, 23, and 42. Then, print the series."
   ]
  },
  {
   "cell_type": "code",
   "execution_count": 2,
   "id": "eb09e4ab",
   "metadata": {},
   "outputs": [
    {
     "name": "stdout",
     "output_type": "stream",
     "text": [
      "0     4\n",
      "1     8\n",
      "2    15\n",
      "3    16\n",
      "4    23\n",
      "5    42\n",
      "dtype: int64\n"
     ]
    }
   ],
   "source": [
    "import pandas as pd\n",
    "\n",
    "data = [4, 8, 15, 16, 23, 42]\n",
    "series = pd.Series(data)\n",
    "print(series)"
   ]
  },
  {
   "cell_type": "code",
   "execution_count": 3,
   "id": "22a0ab82",
   "metadata": {},
   "outputs": [],
   "source": [
    "# Q2. Create a variable of list type containing 10 elements in it, and apply pandas.Series function on the\n",
    "# variable print it."
   ]
  },
  {
   "cell_type": "code",
   "execution_count": 4,
   "id": "6014d42f",
   "metadata": {},
   "outputs": [
    {
     "name": "stdout",
     "output_type": "stream",
     "text": [
      "0     1\n",
      "1     2\n",
      "2     3\n",
      "3     4\n",
      "4     5\n",
      "5     6\n",
      "6     7\n",
      "7     8\n",
      "8     9\n",
      "9    10\n",
      "dtype: int64\n"
     ]
    }
   ],
   "source": [
    "import pandas as pd\n",
    "\n",
    "my_list = [1, 2, 3, 4, 5, 6, 7, 8, 9, 10]\n",
    "series = pd.Series(my_list)\n",
    "print(series)"
   ]
  },
  {
   "cell_type": "code",
   "execution_count": 5,
   "id": "119451ff",
   "metadata": {},
   "outputs": [],
   "source": [
    "# Q3. Create a Pandas DataFrame that contains the following data:"
   ]
  },
  {
   "cell_type": "code",
   "execution_count": 6,
   "id": "69693cb8",
   "metadata": {},
   "outputs": [
    {
     "data": {
      "text/html": [
       "<div>\n",
       "<style scoped>\n",
       "    .dataframe tbody tr th:only-of-type {\n",
       "        vertical-align: middle;\n",
       "    }\n",
       "\n",
       "    .dataframe tbody tr th {\n",
       "        vertical-align: top;\n",
       "    }\n",
       "\n",
       "    .dataframe thead th {\n",
       "        text-align: right;\n",
       "    }\n",
       "</style>\n",
       "<table border=\"1\" class=\"dataframe\">\n",
       "  <thead>\n",
       "    <tr style=\"text-align: right;\">\n",
       "      <th></th>\n",
       "      <th>Name</th>\n",
       "      <th>Age</th>\n",
       "      <th>Gender</th>\n",
       "    </tr>\n",
       "  </thead>\n",
       "  <tbody>\n",
       "    <tr>\n",
       "      <th>0</th>\n",
       "      <td>Alice</td>\n",
       "      <td>25</td>\n",
       "      <td>Female</td>\n",
       "    </tr>\n",
       "    <tr>\n",
       "      <th>1</th>\n",
       "      <td>Bob</td>\n",
       "      <td>30</td>\n",
       "      <td>Male</td>\n",
       "    </tr>\n",
       "    <tr>\n",
       "      <th>2</th>\n",
       "      <td>Claire</td>\n",
       "      <td>27</td>\n",
       "      <td>Female</td>\n",
       "    </tr>\n",
       "  </tbody>\n",
       "</table>\n",
       "</div>"
      ],
      "text/plain": [
       "     Name  Age  Gender\n",
       "0   Alice   25  Female\n",
       "1     Bob   30    Male\n",
       "2  Claire   27  Female"
      ]
     },
     "execution_count": 6,
     "metadata": {},
     "output_type": "execute_result"
    }
   ],
   "source": [
    "import pandas\n",
    "\n",
    "data = {\n",
    "    \"Name\":[\"Alice\",\"Bob\",\"Claire\"],\n",
    "    \"Age\": [25,30,27],\n",
    "    \"Gender\":[\"Female\",\"Male\",\"Female\"]\n",
    "}\n",
    "\n",
    "df = pd.DataFrame(data)\n",
    "df"
   ]
  },
  {
   "cell_type": "code",
   "execution_count": 7,
   "id": "fb80b348",
   "metadata": {},
   "outputs": [],
   "source": [
    "# Q4. What is ‘DataFrame’ in pandas and how is it different from pandas.series? Explain with an example."
   ]
  },
  {
   "cell_type": "code",
   "execution_count": 8,
   "id": "acbf7185",
   "metadata": {},
   "outputs": [],
   "source": [
    "# In Pandas, a DataFrame is a two-dimensional labeled data structure that consists of rows and columns. \n",
    "# It can be thought of as a table, similar to a spreadsheet or a SQL table, where each column can be of a \n",
    "# different data type. DataFrames allow for easy manipulation, analysis, and visualization of data.\n",
    "\n",
    "# On the other hand, a Series is a one-dimensional labeled array capable of holding any data type. It is \n",
    "# essentially a single column of data with an associated index. You can think of a DataFrame as a collection of\n",
    "# Series where each Series represents a column of the DataFrame.\n",
    "\n",
    "# Here's an example to illustrate the difference between a DataFrame and a Series:"
   ]
  },
  {
   "cell_type": "code",
   "execution_count": 9,
   "id": "00c9da7b",
   "metadata": {},
   "outputs": [
    {
     "name": "stdout",
     "output_type": "stream",
     "text": [
      "DataFrame:\n",
      "      Name  Age         City\n",
      "0    Alice   25     New York\n",
      "1      Bob   30  Los Angeles\n",
      "2  Charlie   35      Chicago\n",
      "3    David   40      Houston\n",
      "\n",
      "Data type of DataFrame:\n",
      "<class 'pandas.core.frame.DataFrame'>\n",
      "\n",
      "Series:\n",
      "0    25\n",
      "1    30\n",
      "2    35\n",
      "3    40\n",
      "Name: Age, dtype: int64\n",
      "\n",
      "Data type of Series:\n",
      "<class 'pandas.core.series.Series'>\n"
     ]
    }
   ],
   "source": [
    "import pandas as pd\n",
    "\n",
    "# Creating a DataFrame\n",
    "data = {\n",
    "    'Name': ['Alice', 'Bob', 'Charlie', 'David'],\n",
    "    'Age': [25, 30, 35, 40],\n",
    "    'City': ['New York', 'Los Angeles', 'Chicago', 'Houston']\n",
    "}\n",
    "\n",
    "df = pd.DataFrame(data)\n",
    "print(\"DataFrame:\")\n",
    "print(df)\n",
    "print(\"\\nData type of DataFrame:\")\n",
    "print(type(df))\n",
    "\n",
    "# Creating a Series\n",
    "ages = pd.Series([25, 30, 35, 40], name='Age')\n",
    "print(\"\\nSeries:\")\n",
    "print(ages)\n",
    "print(\"\\nData type of Series:\")\n",
    "print(type(ages))\n"
   ]
  },
  {
   "cell_type": "code",
   "execution_count": 10,
   "id": "bbefe525",
   "metadata": {},
   "outputs": [],
   "source": [
    "# In the example above, df is a DataFrame containing information about individuals names, ages, and cities,\n",
    "# while ages is a Series containing only the ages of the individuals. The DataFrame has multiple columns, each\n",
    "# represented by a Series, whereas the Series contains only one column of data."
   ]
  },
  {
   "cell_type": "code",
   "execution_count": 11,
   "id": "b107bca2",
   "metadata": {},
   "outputs": [],
   "source": [
    "# Q5. What are some common functions you can use to manipulate data in a Pandas DataFrame? Can\n",
    "# you give an example of when you might use one of these functions?"
   ]
  },
  {
   "cell_type": "code",
   "execution_count": 12,
   "id": "849ab76e",
   "metadata": {},
   "outputs": [],
   "source": [
    "# Pandas provides a wide range of functions for manipulating data in a DataFrame. Some common functions include:\n",
    "\n",
    "# 1.head() and tail(): These functions allow you to view the first or last few rows of the DataFrame.\n",
    "\n",
    "# 2.info() and describe(): These functions provide summary information about the DataFrame, such as data types,\n",
    "#     non-null counts, and summary statistics.\n",
    "\n",
    "# 3. loc[] and iloc[]: These functions are used for accessing subsets of data based on labels (loc[]) or \n",
    "#     integer indices (iloc[]).\n",
    "\n",
    "# 4. drop(): This function is used to remove rows or columns from the DataFrame.\n",
    "\n",
    "# 5.fillna(): This function is used to fill missing values in the DataFrame with specified values.\n",
    "\n",
    "# 6.groupby(): This function is used for grouping data based on one or more columns and performing operations on the grouped data.\n",
    "\n",
    "# 7.merge() and join(): These functions are used for combining multiple DataFrames based on common columns or indices.\n",
    "\n",
    "# 8.apply(): This function is used to apply a function along one axis of the DataFrame.\n",
    "\n",
    "# 9.sort_values() and sort_index(): These functions are used to sort the DataFrame by values or indices, respectively.\n",
    "\n",
    "# 10. pivot_table(): This function is used to create a pivot table from the DataFrame.\n",
    "\n",
    "# Example of when you might use one of these functions:\n",
    "\n",
    "# Let's say you have a DataFrame containing information about sales transactions, and you want to calculate the total \n",
    "# sales amount for each product. You can use the groupby() function to group the data by the 'Product' column and then sum\n",
    "# the 'Sales' column to get the total sales amount for each product."
   ]
  },
  {
   "cell_type": "code",
   "execution_count": 15,
   "id": "310130ba",
   "metadata": {},
   "outputs": [
    {
     "name": "stdout",
     "output_type": "stream",
     "text": [
      "Product\n",
      "A    430\n",
      "B    450\n",
      "C    720\n",
      "Name: Sales, dtype: int64\n"
     ]
    }
   ],
   "source": [
    "import pandas as pd\n",
    "\n",
    "# Example DataFrame\n",
    "data = {\n",
    "    'Product': ['A', 'B', 'A', 'C', 'B', 'C', 'A', 'C'],\n",
    "    'Sales': [100, 200, 150, 300, 250, 200, 180, 220]\n",
    "}\n",
    "\n",
    "df = pd.DataFrame(data)\n",
    "\n",
    "# Grouping by 'Product' and calculating total sales\n",
    "total_sales_by_product = df.groupby('Product')['Sales'].sum()\n",
    "\n",
    "print(total_sales_by_product)\n",
    "\n",
    "# In this example, the groupby() function is used to group the data by the 'Product' column, and then the sum() \n",
    "# function is applied to calculate the total sales amount for each product."
   ]
  },
  {
   "cell_type": "code",
   "execution_count": 13,
   "id": "a432a612",
   "metadata": {},
   "outputs": [],
   "source": [
    "# Q6. Which of the following is mutable in nature Series, DataFrame, Panel?"
   ]
  },
  {
   "cell_type": "code",
   "execution_count": 16,
   "id": "fd75ecf9",
   "metadata": {},
   "outputs": [],
   "source": [
    "# Among the options provided, Series and DataFrame are mutable in nature, while Panel is not.\n",
    "\n",
    "# 1. Series: A Pandas Series is mutable, meaning its values can be changed after creation. You can update, add, \n",
    "#     or remove elements from a Series.\n",
    "\n",
    "# 2. DataFrame: Similarly, a Pandas DataFrame is mutable. You can modify the data within a DataFrame, change column names, \n",
    "#     add or remove rows or columns, etc.\n",
    "\n",
    "# 3. Panel: Panel was a data structure in earlier versions of Pandas for handling three-dimensional data, but it has been\n",
    "#     deprecated in favor of MultiIndex DataFrames. Panels are not mutable; once created, their structure and data cannot\n",
    "#     be modified.\n",
    "\n",
    "# However, it's worth noting that while Series and DataFrame are mutable, best practices often involve avoiding in-place\n",
    "# modifications to ensure clarity and reproducibility of data manipulation operations. Instead, it's often recommended to \n",
    "# create new Series or DataFrames with the desired modifications."
   ]
  },
  {
   "cell_type": "code",
   "execution_count": 17,
   "id": "92279e02",
   "metadata": {},
   "outputs": [],
   "source": [
    "# Q7. Create a DataFrame using multiple Series. Explain with an example."
   ]
  },
  {
   "cell_type": "code",
   "execution_count": 18,
   "id": "4e32275c",
   "metadata": {},
   "outputs": [
    {
     "name": "stdout",
     "output_type": "stream",
     "text": [
      "      Name  Age         City\n",
      "0    Alice   25     New York\n",
      "1      Bob   30  Los Angeles\n",
      "2  Charlie   35      Chicago\n",
      "3    David   40      Houston\n"
     ]
    }
   ],
   "source": [
    "import pandas as pd\n",
    "\n",
    "# Creating multiple Series\n",
    "names = pd.Series(['Alice', 'Bob', 'Charlie', 'David'])\n",
    "ages = pd.Series([25, 30, 35, 40])\n",
    "cities = pd.Series(['New York', 'Los Angeles', 'Chicago', 'Houston'])\n",
    "\n",
    "# Creating a DataFrame using multiple Series\n",
    "df = pd.DataFrame({\n",
    "    'Name': names,\n",
    "    'Age': ages,\n",
    "    'City': cities\n",
    "})\n",
    "\n",
    "print(df)\n"
   ]
  },
  {
   "cell_type": "code",
   "execution_count": 19,
   "id": "45243e31",
   "metadata": {},
   "outputs": [],
   "source": [
    "# In this example, we create three Series: names, ages, and cities. Then, we create a DataFrame df using these\n",
    "# Series by passing them as a dictionary to the pd.DataFrame() constructor. Each Series becomes a column in the \n",
    "# DataFrame, and the resulting DataFrame contains columns named 'Name', 'Age', and 'City'. Each row corresponds \n",
    "# to the data from the corresponding index of each Series."
   ]
  },
  {
   "cell_type": "code",
   "execution_count": null,
   "id": "fa86bc00",
   "metadata": {},
   "outputs": [],
   "source": []
  }
 ],
 "metadata": {
  "kernelspec": {
   "display_name": "Python 3 (ipykernel)",
   "language": "python",
   "name": "python3"
  },
  "language_info": {
   "codemirror_mode": {
    "name": "ipython",
    "version": 3
   },
   "file_extension": ".py",
   "mimetype": "text/x-python",
   "name": "python",
   "nbconvert_exporter": "python",
   "pygments_lexer": "ipython3",
   "version": "3.9.12"
  }
 },
 "nbformat": 4,
 "nbformat_minor": 5
}
