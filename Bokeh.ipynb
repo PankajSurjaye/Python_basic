{
  "nbformat": 4,
  "nbformat_minor": 0,
  "metadata": {
    "colab": {
      "provenance": [],
      "gpuType": "T4"
    },
    "kernelspec": {
      "name": "python3",
      "display_name": "Python 3"
    },
    "language_info": {
      "name": "python"
    },
    "accelerator": "GPU"
  },
  "cells": [
    {
      "cell_type": "code",
      "source": [
        "Q1. How can you create a Bokeh plot using Python code?\n",
        "To create a Bokeh plot using Python code, you need to follow these steps:\n",
        "\n",
        "Install Bokeh using pip:\n",
        "\n",
        "\n",
        "pip install bokeh\n",
        "Import the necessary modules from Bokeh:\n",
        "\n",
        "\n",
        "from bokeh.plotting import figure, output_file, show\n",
        "Create some data to plot.\n",
        "\n",
        "Create a figure object using the figure() function.\n",
        "\n",
        "Add glyphs (visual markers) to the figure to represent your data.\n",
        "\n",
        "Optionally, customize the appearance of the plot (e.g., axes, title, legend).\n",
        "\n",
        "Output the plot to a file or display it in a web browser using the output_file() and show() functions."
      ],
      "metadata": {
        "colab": {
          "base_uri": "https://localhost:8080/"
        },
        "id": "TYnA6QLejfkt",
        "outputId": "1d4750c6-3d05-4e96-e13d-a2886fb1a9df"
      },
      "execution_count": null,
      "outputs": [
        {
          "output_type": "stream",
          "name": "stdout",
          "text": [
            "Data type of list_: <class 'str'>\n",
            "Data type of array_list: <U1\n"
          ]
        }
      ]
    },
    {
      "cell_type": "code",
      "source": [],
      "metadata": {
        "id": "lf0PVKN0jjgy"
      },
      "execution_count": null,
      "outputs": []
    },
    {
      "cell_type": "markdown",
      "source": [
        "Q2: ------------------------------------------------------------------------------------------------"
      ],
      "metadata": {
        "id": "krYt1-SamonT"
      }
    },
    {
      "cell_type": "code",
      "source": [
        "Glyphs in Bokeh are visual markers such as circles, squares, lines, etc., used to represent data points on a plot. You can add glyphs to a Bokeh plot by calling the appropriate glyph function and specifying the data source and properties of the glyph.\n",
        "\n",
        "Here's an example of adding circles as glyphs to a Bokeh plot:"
      ],
      "metadata": {
        "id": "wSzdv8DiuRYe"
      },
      "execution_count": null,
      "outputs": []
    },
    {
      "cell_type": "code",
      "source": [
        "from bokeh.plotting import figure, output_file, show\n",
        "\n",
        "# Create some sample data\n",
        "x = [1, 2, 3, 4, 5]\n",
        "y = [6, 7, 2, 4, 5]\n",
        "\n",
        "# Create a figure object\n",
        "p = figure(title=\"Sample Plot\", x_axis_label='X-axis', y_axis_label='Y-axis')\n",
        "\n",
        "# Add circles as glyphs to the plot\n",
        "p.circle(x, y, size=10, color='navy', alpha=0.5)\n",
        "\n",
        "# Output the plot to an HTML file\n",
        "output_file(\"glyphs.html\")\n",
        "\n",
        "# Show the plot\n",
        "show(p)\n"
      ],
      "metadata": {
        "id": "88ARGjMumpMy"
      },
      "execution_count": 38,
      "outputs": []
    },
    {
      "cell_type": "code",
      "source": [],
      "metadata": {
        "id": "0I3zYcHhmt3F"
      },
      "execution_count": null,
      "outputs": []
    },
    {
      "cell_type": "markdown",
      "source": [
        "Question 3---------------------------------------------------------------------------------------------------------------"
      ],
      "metadata": {
        "id": "7Iib_wf2mutB"
      }
    },
    {
      "cell_type": "code",
      "source": [
        "You can customize the appearance of a Bokeh plot by modifying various properties of the figure object. Here are some common customizations:\n",
        "\n",
        "Set the title using the title property.\n",
        "Customize axes labels using the x_axis_label and y_axis_label properties.\n",
        "Add a legend using the legend property.\n",
        "Customize axis ticks, tick labels, gridlines, etc., using the appropriate properties.\n",
        "Here's an example of customizing the appearance of a Bokeh plot:"
      ],
      "metadata": {
        "id": "LqwmEA90ueMs"
      },
      "execution_count": null,
      "outputs": []
    },
    {
      "cell_type": "code",
      "source": [
        "from bokeh.plotting import figure, output_file, show\n",
        "\n",
        "# Create some sample data\n",
        "x = [1, 2, 3, 4, 5]\n",
        "y = [6, 7, 2, 4, 5]\n",
        "\n",
        "# Create a figure object with customized appearance\n",
        "p = figure(title=\"Customized Plot\", x_axis_label='X-axis', y_axis_label='Y-axis',\n",
        "           width=800, height=400, tools='pan,box_zoom,reset', toolbar_location='above')\n",
        "\n",
        "# Add a line glyph to the plot\n",
        "p.line(x, y, line_width=2, color='navy')\n",
        "\n",
        "# Customize other properties\n",
        "p.title.text_color = \"blue\"\n",
        "p.title.text_font_size = \"20px\"\n",
        "p.xaxis.axis_label_text_color = \"green\"\n",
        "p.yaxis.axis_label_text_font_style = \"italic\"\n",
        "\n",
        "# Output the plot to an HTML file\n",
        "output_file(\"customized_plot.html\")\n",
        "\n",
        "# Show the plot\n",
        "show(p)\n"
      ],
      "metadata": {
        "id": "R1JGJ7xFmw2N"
      },
      "execution_count": 41,
      "outputs": []
    },
    {
      "cell_type": "code",
      "source": [],
      "metadata": {
        "id": "qqX7znR8mylA"
      },
      "execution_count": null,
      "outputs": []
    },
    {
      "cell_type": "markdown",
      "source": [
        "Question 4---------------------------------------------------------------------------------------------------------------"
      ],
      "metadata": {
        "id": "ZS2jjGfJmzCj"
      }
    },
    {
      "cell_type": "code",
      "source": [
        "A Bokeh server is a Python library that allows you to build and deploy interactive Bokeh plots as standalone web applications.\n",
        "With Bokeh server, you can create dynamic and interactive plots that can be updated in real time based on user interactions or streaming data.\n",
        "\n",
        "To use Bokeh server, you need to define a Bokeh application, which is a Python script that creates a Bokeh plot or layout.\n",
        "You then run the Bokeh application using the Bokeh server, which serves the plot as a web application.\n",
        "\n",
        "Here's a simple example of a Bokeh application that creates an interactive plot:"
      ],
      "metadata": {
        "id": "zEt_BUI_uqTy"
      },
      "execution_count": null,
      "outputs": []
    },
    {
      "cell_type": "code",
      "source": [
        "from bokeh.io import curdoc\n",
        "from bokeh.plotting import figure\n",
        "from bokeh.models import ColumnDataSource\n",
        "from bokeh.models.widgets import Slider\n",
        "import numpy as np\n",
        "\n",
        "# Create some sample data\n",
        "x = np.linspace(0, 10, 100)\n",
        "y = np.sin(x)\n",
        "\n",
        "# Create a ColumnDataSource\n",
        "source = ColumnDataSource(data={'x': x, 'y': y})\n",
        "\n",
        "# Create a figure object\n",
        "p = figure(title=\"Interactive Plot\", sizing_mode='stretch_both')\n",
        "line = p.line('x', 'y', source=source)\n",
        "\n",
        "# Define a callback function to update the plot\n",
        "def update_data(attr, old, new):\n",
        "    new_y = np.sin(x + offset.value)\n",
        "    source.data = {'x': x, 'y': new_y}\n",
        "\n",
        "# Add a slider widget to interact with the plot\n",
        "offset = Slider(start=0, end=10, step=0.1, value=0, title=\"Offset\")\n",
        "offset.on_change('value', update_data)\n",
        "\n",
        "# Add the plot and widget to the current document\n",
        "curdoc().add_root(p)\n",
        "curdoc().add_root(offset)\n"
      ],
      "metadata": {
        "id": "kfYOTxC_m1Vn"
      },
      "execution_count": 1,
      "outputs": []
    },
    {
      "cell_type": "code",
      "source": [
        "Question 5---------------------------------------------------------------------------------------------------------------"
      ],
      "metadata": {
        "id": "ZY-6cKjkm3Xo"
      },
      "execution_count": null,
      "outputs": []
    },
    {
      "cell_type": "code",
      "source": [
        "To embed a Bokeh plot into a web page or dashboard using Flask or Django, you can follow these general steps:\n",
        "\n",
        "Create a Bokeh plot as described earlier.\n",
        "Save the plot as an HTML file using the output_file() function.\n",
        "In your Flask or Django application, serve the HTML file containing the Bokeh plot.\n",
        "Embed the plot into a web page or dashboard using an <iframe> tag or by directly including the HTML content.\n",
        "Here's an example of how to embed a Bokeh plot into a Flask application:"
      ],
      "metadata": {
        "id": "jcv0W6u7vBRh"
      },
      "execution_count": null,
      "outputs": []
    },
    {
      "cell_type": "code",
      "source": [
        "from flask import Flask, render_template\n",
        "from bokeh.plotting import figure\n",
        "from bokeh.embed import components\n",
        "from bokeh.resources import CDN\n",
        "import numpy as np\n",
        "\n",
        "app = Flask(__name__)\n",
        "\n",
        "@app.route('/')\n",
        "def index():\n",
        "    # Create some sample data\n",
        "    x = np.linspace(0, 10, 100)\n",
        "    y = np.sin(x)\n",
        "\n",
        "    # Create a Bokeh plot\n",
        "    p = figure(title=\"Bokeh Plot\", plot_width=800, plot_height=400)\n",
        "    p.line(x, y, line_width=2)\n",
        "\n",
        "    # Generate the HTML components for the Bokeh plot\n",
        "    script, div = components(p, CDN)\n",
        "\n",
        "    # Pass the script and div to the HTML template\n",
        "    return render_template(\"index.html\", script=script, div=div)\n",
        "\n",
        "if __name__ == '__main__':\n",
        "    app.run(debug=True)\n"
      ],
      "metadata": {
        "id": "tVHWqtVBm73U"
      },
      "execution_count": 4,
      "outputs": []
    },
    {
      "cell_type": "code",
      "source": [
        "And in your index.html template file:"
      ],
      "metadata": {
        "id": "ILHx_hVSFHr5"
      },
      "execution_count": null,
      "outputs": []
    },
    {
      "cell_type": "code",
      "source": [],
      "metadata": {
        "id": "XRzWs6kEFH_2"
      },
      "execution_count": 4,
      "outputs": []
    },
    {
      "cell_type": "code",
      "source": [
        "<!DOCTYPE html>\n",
        "<html lang=\"en\">\n",
        "<head>\n",
        "    <meta charset=\"UTF-8\">\n",
        "    <title>Bokeh Plot</title>\n",
        "    <link\n",
        "        href=\"https://cdn.bokeh.org/bokeh/release/bokeh-2.4.0.min.css\"\n",
        "        rel=\"stylesheet\"\n",
        "        type=\"text/css\"\n",
        "    >\n",
        "    <script src=\"https://cdn.bokeh.org/bokeh/release/bokeh-2.4.0.min.js\"></script>\n",
        "    <script src=\"https://cdn.bokeh.org/bokeh/release/bokeh-widgets-2.4.0.min.js\"></script>\n",
        "    <script src=\"https://cdn.bokeh.org/bokeh/release/bokeh-tables-2.4.0.min.js\"></script>\n",
        "</head>\n",
        "<body>\n",
        "    {{ plot_html | safe }}\n",
        "</body>\n",
        "</html>\n"
      ],
      "metadata": {
        "id": "5gD2ATkcFDrQ"
      },
      "execution_count": null,
      "outputs": []
    }
  ]
}