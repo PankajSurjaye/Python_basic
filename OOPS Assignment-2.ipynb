{
 "cells": [
  {
   "cell_type": "markdown",
   "id": "ec168b4d",
   "metadata": {},
   "source": [
    "# OOPS Assignment-2"
   ]
  },
  {
   "cell_type": "code",
   "execution_count": 1,
   "id": "b4294554",
   "metadata": {},
   "outputs": [],
   "source": [
    "# Q1. What is Abstraction in OOps? Explain with an example."
   ]
  },
  {
   "cell_type": "code",
   "execution_count": 2,
   "id": "24fe95b8",
   "metadata": {},
   "outputs": [],
   "source": [
    "# Abstraction is one of the fundamental concepts in object-oriented programming (OOP). It involves simplifying \n",
    "# complex reality by modeling classes based on the essential attributes and behaviors they share while hiding unnecessary \n",
    "# details. Abstraction allows you to focus on what an object does rather than how it does it, making code more \n",
    "# understandable and maintainable. In OOP, you can achieve abstraction by defining classes with attributes and methods \n",
    "# that provide a clear and high-level interface for interacting with objects.\n",
    "\n",
    "# Here's an example to explain abstraction in OOP:\n",
    "\n",
    "# Let's consider modeling a bank account using abstraction. In this scenario, you're not concerned with \n",
    "# the low-level details of how a bank manages accounts; you want to create a simplified model that allows you \n",
    "# to interact with a bank account in a straightforward way."
   ]
  },
  {
   "cell_type": "code",
   "execution_count": 3,
   "id": "36ba7edb",
   "metadata": {},
   "outputs": [
    {
     "name": "stdout",
     "output_type": "stream",
     "text": [
      "Current Balance: 1300\n"
     ]
    }
   ],
   "source": [
    "class BankAccount:\n",
    "    def __init__(self, account_number, balance):\n",
    "        self.account_number = account_number\n",
    "        self.balance = balance\n",
    "\n",
    "    def deposit(self, amount):\n",
    "        self.balance += amount\n",
    "\n",
    "    def withdraw(self, amount):\n",
    "        if self.balance >= amount:\n",
    "            self.balance -= amount\n",
    "        else:\n",
    "            print(\"Insufficient balance\")\n",
    "\n",
    "    def get_balance(self):\n",
    "        return self.balance\n",
    "\n",
    "# Create a bank account object\n",
    "my_account = BankAccount(\"12345\", 1000)\n",
    "\n",
    "# Perform operations on the account using the high-level interface\n",
    "my_account.deposit(500)\n",
    "my_account.withdraw(200)\n",
    "print(\"Current Balance:\", my_account.get_balance())\n"
   ]
  },
  {
   "cell_type": "code",
   "execution_count": 4,
   "id": "42f30282",
   "metadata": {},
   "outputs": [],
   "source": [
    "# Q2. Differentiate between Abstraction and Encapsulation. Explain with an example."
   ]
  },
  {
   "cell_type": "code",
   "execution_count": 5,
   "id": "3664b46a",
   "metadata": {},
   "outputs": [],
   "source": [
    "# Abstraction and encapsulation are two fundamental concepts in object-oriented programming, and while they are \n",
    "# related, they serve different purposes and have distinct characteristics. Let's differentiate between abstraction \n",
    "# and encapsulation and provide examples for each:\n",
    "\n",
    "# Abstraction:\n",
    "\n",
    "# Purpose: Abstraction is the process of simplifying complex reality by modeling classes based on the essential\n",
    "#     attributes and behaviors they share while hiding unnecessary details. It allows you to focus on what an \n",
    "#     object does rather than how it does it.\n",
    "\n",
    "# Focus: Abstraction focuses on the high-level design of classes and their interactions, emphasizing the essential\n",
    "#     features and ignoring irrelevant details.\n",
    "\n",
    "# Implementation: Abstraction is implemented through the creation of classes and their methods that provide a clear \n",
    "#     and high-level interface for interacting with objects.\n",
    "\n",
    "# Example of Abstraction:\n",
    "\n",
    "# Suppose you are modeling a smartphone. You create a Smartphone class with methods like make_call(), send_message(),\n",
    "# and take_photo(). These methods provide a simplified, high-level interface to interact with the smartphone's \n",
    "# essential features, without exposing the inner workings of the phone's hardware and software."
   ]
  },
  {
   "cell_type": "code",
   "execution_count": 6,
   "id": "a084c494",
   "metadata": {},
   "outputs": [],
   "source": [
    "class Smartphone:\n",
    "    def make_call(self, number):\n",
    "        pass\n",
    "\n",
    "    def send_message(self, recipient, message):\n",
    "        pass\n",
    "\n",
    "    def take_photo(self):\n",
    "        pass\n"
   ]
  },
  {
   "cell_type": "code",
   "execution_count": 7,
   "id": "f340a784",
   "metadata": {},
   "outputs": [],
   "source": [
    "# Encapsulation:\n",
    "\n",
    "# Purpose: Encapsulation is the concept of bundling data (attributes) and methods (functions) that operate\n",
    "#     on that data into a single unit called a class. It restricts the direct access to some of the object's \n",
    "#     components, making it possible to control the manipulation of the data and ensuring the integrity of the object.\n",
    "\n",
    "# Focus: Encapsulation focuses on data protection and access control. It hides the internal state of an object from \n",
    "#     external interference.\n",
    "\n",
    "# Implementation: Encapsulation is implemented by using access control modifiers (e.g., private, protected) to \n",
    "#     restrict access to certain attributes and methods.\n",
    "\n",
    "# Example of Encapsulation:\n",
    "\n",
    "# Consider a bank account class. You encapsulate the account's balance attribute to protect it from direct external \n",
    "#     access. You provide methods for depositing and withdrawing money, and these methods handle the necessary checks \n",
    "#     and updates internally, ensuring the integrity of the balance."
   ]
  },
  {
   "cell_type": "code",
   "execution_count": 8,
   "id": "affe6b58",
   "metadata": {},
   "outputs": [],
   "source": [
    "class BankAccount:\n",
    "    def __init__(self):\n",
    "        self.__balance = 0  # Encapsulated attribute\n",
    "\n",
    "    def deposit(self, amount):\n",
    "        if amount > 0:\n",
    "            self.__balance += amount  # Internal manipulation\n",
    "\n",
    "    def withdraw(self, amount):\n",
    "        if amount > 0 and amount <= self.__balance:\n",
    "            self.__balance -= amount  # Internal manipulation\n",
    "\n",
    "    def get_balance(self):\n",
    "        return self.__balance  # Controlled access\n"
   ]
  },
  {
   "cell_type": "code",
   "execution_count": 9,
   "id": "5853223b",
   "metadata": {},
   "outputs": [],
   "source": [
    "# Q3. What is abc module in python? Why is it used?"
   ]
  },
  {
   "cell_type": "code",
   "execution_count": 10,
   "id": "fdfc0ac8",
   "metadata": {},
   "outputs": [],
   "source": [
    "# The abc module in Python stands for \"Abstract Base Classes.\" It is a module in the Python Standard Library \n",
    "# that provides mechanisms for defining and working with abstract base classes. Abstract base classes are classes \n",
    "# that cannot be instantiated directly but are meant to be subclassed by other classes. They are used to define a \n",
    "# common interface for a group of related classes and to ensure that certain methods or properties are implemented by\n",
    "# all concrete (sub)classes.\n",
    "\n",
    "# The primary reasons for using the abc module in Python are as follows:\n",
    "\n",
    "# Enforce Method Implementation: Abstract base classes allow you to define a set of methods that must be \n",
    "#     implemented by any concrete subclass. This ensures that subclasses adhere to a specific interface.\n",
    "\n",
    "# Polymorphism and Type Checking: Abstract base classes enable polymorphism by defining a common set of methods. \n",
    "#     This allows you to treat objects of different concrete subclasses uniformly based on their shared abstract base class. \n",
    "#     It also aids in type checking and type hinting.\n",
    "\n",
    "# Documentation and Interface Definition: Abstract base classes serve as a form of documentation, making it clear\n",
    "#     which methods and properties are expected to be implemented in concrete subclasses. They provide a clear contract for \n",
    "#     how subclasses should behave.\n",
    "\n",
    "# Here's an example of how to use the abc module to create an abstract base class and concrete subclasses:"
   ]
  },
  {
   "cell_type": "code",
   "execution_count": 22,
   "id": "66a576de",
   "metadata": {},
   "outputs": [],
   "source": [
    "import abc\n",
    "class pwskills:\n",
    "    @abc.abstractmethod\n",
    "    def students_details(self):\n",
    "        pass\n",
    "    @abc.abstractmethod\n",
    "    def students_assignment(self):\n",
    "        pass\n",
    "    @abc.abstractmethod\n",
    "    def students_markes(self):\n",
    "        pass"
   ]
  },
  {
   "cell_type": "code",
   "execution_count": 23,
   "id": "d19b0dd7",
   "metadata": {},
   "outputs": [],
   "source": [
    "class students_details(pwskills):\n",
    "    def students_details(self):\n",
    "        return \"thie is a meth for taking students details\"\n",
    "    \n",
    "    def students_assignment(self):\n",
    "        return \"this is a meth for assign details for a perticuler student\""
   ]
  },
  {
   "cell_type": "code",
   "execution_count": 24,
   "id": "274581d3",
   "metadata": {},
   "outputs": [],
   "source": [
    "class data_science_master(pwskills):\n",
    "    def students_details(self):\n",
    "        return \"this will return a student details for data science masters\"\n",
    "    def students_assignment(self):\n",
    "        return \"this will give you a student assignment details for data science masters\""
   ]
  },
  {
   "cell_type": "code",
   "execution_count": 25,
   "id": "92cb632f",
   "metadata": {},
   "outputs": [],
   "source": [
    "dsm = data_science_master()"
   ]
  },
  {
   "cell_type": "code",
   "execution_count": 26,
   "id": "2c4bd387",
   "metadata": {},
   "outputs": [
    {
     "data": {
      "text/plain": [
       "'this will return a student details for data science masters'"
      ]
     },
     "execution_count": 26,
     "metadata": {},
     "output_type": "execute_result"
    }
   ],
   "source": [
    "dsm.students_details()"
   ]
  },
  {
   "cell_type": "code",
   "execution_count": 27,
   "id": "c1807aad",
   "metadata": {},
   "outputs": [],
   "source": [
    "sd = students_details()"
   ]
  },
  {
   "cell_type": "code",
   "execution_count": 28,
   "id": "7b9536b8",
   "metadata": {},
   "outputs": [
    {
     "data": {
      "text/plain": [
       "'thie is a meth for taking students details'"
      ]
     },
     "execution_count": 28,
     "metadata": {},
     "output_type": "execute_result"
    }
   ],
   "source": [
    "sd.students_details()"
   ]
  },
  {
   "cell_type": "code",
   "execution_count": 29,
   "id": "0d57fc40",
   "metadata": {},
   "outputs": [],
   "source": [
    "# Q4. How can we achieve data abstraction?"
   ]
  },
  {
   "cell_type": "code",
   "execution_count": 30,
   "id": "0309c9c3",
   "metadata": {},
   "outputs": [],
   "source": [
    "\n",
    "# Data abstraction can be achieved in programming by using the following techniques and principles:\n",
    "\n",
    "# Use of Classes and Objects: Define classes to encapsulate data and methods that operate on that data.\n",
    "#     Objects are instances of these classes and provide a way to access and manipulate the data through\n",
    "#     well-defined methods, abstracting away the details of how the data is stored and processed.\n",
    "\n",
    "# Access Modifiers: Use access modifiers (e.g., private, protected) to control the visibility and accessibility \n",
    "#     of attributes and methods within a class. This allows you to hide implementation details and control data access, \n",
    "#     enforcing data abstraction.\n",
    "\n",
    "# Getters and Setters: Use getter and setter methods to access and modify attributes, rather than directly accessing them. \n",
    "#     This allows you to control and validate data access and manipulation, promoting data abstraction.\n",
    "\n",
    "# Encapsulation: Encapsulation is a key concept in achieving data abstraction. It involves bundling data and methods into\n",
    "#     a class and controlling access to that data. By encapsulating data, you hide the internal details of how the data \n",
    "#     is stored and processed.\n",
    "\n",
    "# Abstract Base Classes: Use abstract base classes, such as those provided by Python's abc module, to define a common \n",
    "#     interface for a group of related classes. Abstract base classes ensure that specific methods or properties are \n",
    "#     implemented by concrete subclasses, enforcing a form of data abstraction.\n",
    "\n",
    "# Polymorphism: Use polymorphism to enable objects of different classes to be treated as objects of a common superclass. \n",
    "#     This allows you to work with objects based on their shared interface rather than their concrete class, promoting \n",
    "#     data abstraction.\n",
    "\n",
    "# Here's a simple example in Python that demonstrates data abstraction using classes and encapsulation:"
   ]
  },
  {
   "cell_type": "code",
   "execution_count": 31,
   "id": "3185f132",
   "metadata": {},
   "outputs": [
    {
     "name": "stdout",
     "output_type": "stream",
     "text": [
      "Name: Alice\n",
      "Roll Number: 12345\n",
      "Updated Name: Bob\n",
      "Updated Roll Number: 54321\n"
     ]
    }
   ],
   "source": [
    "class Student:\n",
    "    def __init__(self, name, roll_number):\n",
    "        self.__name = name  # Encapsulated attribute\n",
    "        self.__roll_number = roll_number  # Encapsulated attribute\n",
    "\n",
    "    def get_name(self):\n",
    "        return self.__name  # Getter method\n",
    "\n",
    "    def set_name(self, name):\n",
    "        self.__name = name  # Setter method\n",
    "\n",
    "    def get_roll_number(self):\n",
    "        return self.__roll_number  # Getter method\n",
    "\n",
    "    def set_roll_number(self, roll_number):\n",
    "        self.__roll_number = roll_number  # Setter method\n",
    "\n",
    "# Create an instance of the Student class\n",
    "student = Student(\"Alice\", \"12345\")\n",
    "\n",
    "# Access and modify attributes using getter and setter methods\n",
    "print(\"Name:\", student.get_name())  # Access using getter\n",
    "print(\"Roll Number:\", student.get_roll_number())  # Access using getter\n",
    "\n",
    "student.set_name(\"Bob\")  # Modify using setter\n",
    "student.set_roll_number(\"54321\")  # Modify using setter\n",
    "\n",
    "print(\"Updated Name:\", student.get_name())\n",
    "print(\"Updated Roll Number:\", student.get_roll_number())\n"
   ]
  },
  {
   "cell_type": "code",
   "execution_count": 32,
   "id": "3eef4737",
   "metadata": {},
   "outputs": [],
   "source": [
    "# Q5. Can we create an instance of an abstract class? Explain your answer."
   ]
  },
  {
   "cell_type": "code",
   "execution_count": 33,
   "id": "abbf8e31",
   "metadata": {},
   "outputs": [],
   "source": [
    "# No, you cannot create an instance of an abstract class in Python. Abstract classes are meant to be used as \n",
    "# base classes for other classes, and they typically contain one or more abstract methods, which are methods \n",
    "# declared without an implementation. Abstract methods serve as placeholders for methods that must be implemented \n",
    "# by concrete (i.e., non-abstract) subclasses.\n",
    "\n",
    "# Attempting to create an instance of an abstract class will result in a TypeError. Abstract classes themselves cannot \n",
    "# be instantiated because they are incomplete and lack implementations for one or more methods. They are designed to\n",
    "# define a common interface and structure for subclasses, and it's the responsibility of the concrete subclasses to\n",
    "# provide implementations for the abstract methods.\n",
    "\n",
    "# Here's an example illustrating the inability to create an instance of an abstract class using Python's abc module:"
   ]
  },
  {
   "cell_type": "code",
   "execution_count": 34,
   "id": "40d53b76",
   "metadata": {},
   "outputs": [],
   "source": [
    "from abc import ABC, abstractmethod\n",
    "\n",
    "class AbstractClass(ABC):\n",
    "    @abstractmethod\n",
    "    def abstract_method(self):\n",
    "        pass\n",
    "\n",
    "# Attempt to create an instance of the abstract class (will raise a TypeError)\n",
    "# abstract_instance = AbstractClass()\n"
   ]
  },
  {
   "cell_type": "code",
   "execution_count": null,
   "id": "b00a81a8",
   "metadata": {},
   "outputs": [],
   "source": []
  }
 ],
 "metadata": {
  "kernelspec": {
   "display_name": "Python 3 (ipykernel)",
   "language": "python",
   "name": "python3"
  },
  "language_info": {
   "codemirror_mode": {
    "name": "ipython",
    "version": 3
   },
   "file_extension": ".py",
   "mimetype": "text/x-python",
   "name": "python",
   "nbconvert_exporter": "python",
   "pygments_lexer": "ipython3",
   "version": "3.9.12"
  }
 },
 "nbformat": 4,
 "nbformat_minor": 5
}
