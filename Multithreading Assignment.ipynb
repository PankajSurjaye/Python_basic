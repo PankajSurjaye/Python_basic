{
 "cells": [
  {
   "cell_type": "markdown",
   "id": "8ffe1f1f",
   "metadata": {},
   "source": [
    "# Multithreading Assignment"
   ]
  },
  {
   "cell_type": "code",
   "execution_count": 1,
   "id": "1a2f1a37",
   "metadata": {},
   "outputs": [],
   "source": [
    "# Q1. What is multithreading in python? hy is it used? Name the module used to handle threads in python"
   ]
  },
  {
   "cell_type": "code",
   "execution_count": 2,
   "id": "c6a199e9",
   "metadata": {},
   "outputs": [],
   "source": [
    "# Multithreading in Python refers to the concurrent execution of multiple threads within a single process. Each thread is \n",
    "# a separate unit of execution, allowing a Python program to perform multiple tasks simultaneously. Python's multithreading \n",
    "# is achieved using the built-in threading module.\n",
    "\n",
    "# The primary reasons to use multithreading in Python are as follows:\n",
    "\n",
    "# Concurrency: Multithreading allows a program to execute multiple tasks concurrently, taking better advantage \n",
    "#     of multi-core processors and potentially improving the program's performance.\n",
    "\n",
    "# Responsiveness: Multithreading can be used to keep the program responsive to user input or external events, ensuring \n",
    "#     that the program can continue to execute tasks while waiting for user interactions or data from external sources.\n",
    "\n",
    "# Parallelism: While Python's Global Interpreter Lock (GIL) restricts true parallel execution of threads due to CPython's \n",
    "#     memory management, multithreading can still be useful for I/O-bound tasks, such as network communication, where threads \n",
    "#     can execute while others are waiting for data.\n",
    "\n",
    "# Task Decomposition: Multithreading is useful for breaking down a complex task into smaller, more manageable threads, which\n",
    "#     can lead to cleaner and more maintainable code.\n",
    "\n",
    "# Python's threading module provides the necessary tools for creating and managing threads in Python. It allows you to create\n",
    "# threads, start and stop them, synchronize their execution, and communicate between threads. While Python's threading module\n",
    "# is a powerful tool for multithreading, it's important to note that due to the GIL in CPython, it may not be suitable for\n",
    "# CPU-bound tasks that require true parallelism. In such cases, you may consider using the multiprocessing module for parallel\n",
    "# execution on multiple cores."
   ]
  },
  {
   "cell_type": "code",
   "execution_count": 3,
   "id": "a8e68ff6",
   "metadata": {},
   "outputs": [],
   "source": [
    "# Q2. Why threading module used? rite the use of the following functions\n",
    "# a. activeCount()\n",
    "# b. currentThread()\n",
    "# c. enumerate()"
   ]
  },
  {
   "cell_type": "code",
   "execution_count": 4,
   "id": "3b9ede17",
   "metadata": {},
   "outputs": [],
   "source": [
    "# The threading module in Python is used to work with threads, allowing you to create, manage, and control concurren\n",
    "# t execution of code. It provides a high-level interface for threading, making it easier to work with threads in your \n",
    "# Python programs.\n",
    "\n",
    "# Here are the uses of the functions you mentioned from the threading module:\n",
    "\n",
    "# a. activeCount(): This function is used to get the current number of Thread objects in the current program. It returns \n",
    "#     the number of Thread objects that are currently alive (i.e., not terminated).\n",
    "\n",
    "# Example:"
   ]
  },
  {
   "cell_type": "code",
   "execution_count": 5,
   "id": "db697dc9",
   "metadata": {},
   "outputs": [
    {
     "name": "stdout",
     "output_type": "stream",
     "text": [
      "Number of active threads: 6\n"
     ]
    }
   ],
   "source": [
    "import threading\n",
    "\n",
    "def my_function():\n",
    "    pass\n",
    "\n",
    "# Create some threads\n",
    "thread1 = threading.Thread(target=my_function)\n",
    "thread2 = threading.Thread(target=my_function)\n",
    "\n",
    "# Start the threads\n",
    "thread1.start()\n",
    "thread2.start()\n",
    "\n",
    "# Get the number of active threads\n",
    "num_threads = threading.activeCount()\n",
    "print(\"Number of active threads:\", num_threads)\n"
   ]
  },
  {
   "cell_type": "code",
   "execution_count": 6,
   "id": "f9eaffbb",
   "metadata": {},
   "outputs": [],
   "source": [
    "# In this example, activeCount() is used to determine how many threads are currently active in the program."
   ]
  },
  {
   "cell_type": "code",
   "execution_count": 7,
   "id": "a656bf22",
   "metadata": {},
   "outputs": [],
   "source": [
    "# b. currentThread(): This function returns the current Thread object representing the thread from which it is called. You \n",
    "#     can use this function to obtain information about the currently executing thread.\n",
    "\n",
    "# Example:"
   ]
  },
  {
   "cell_type": "code",
   "execution_count": 8,
   "id": "6b0c92ac",
   "metadata": {},
   "outputs": [
    {
     "name": "stdout",
     "output_type": "stream",
     "text": [
      "Current thread name: Thread-7\n"
     ]
    }
   ],
   "source": [
    "import threading\n",
    "\n",
    "def my_function():\n",
    "    current_thread = threading.currentThread()\n",
    "    print(\"Current thread name:\", current_thread.name)\n",
    "\n",
    "# Create a thread\n",
    "thread = threading.Thread(target=my_function)\n",
    "\n",
    "# Start the thread\n",
    "thread.start()\n"
   ]
  },
  {
   "cell_type": "code",
   "execution_count": 9,
   "id": "93754f9e",
   "metadata": {},
   "outputs": [],
   "source": [
    "# In this example, currentThread() is used to retrieve information about the currently executing thread, such as its name.\n",
    "\n",
    "# c. enumerate(): This function returns a list of all Thread objects currently alive. It provides a way to iterate\n",
    "#     over and examine all the active threads in the program.\n",
    "\n",
    "# Example:"
   ]
  },
  {
   "cell_type": "code",
   "execution_count": 10,
   "id": "b7574ca2",
   "metadata": {},
   "outputs": [
    {
     "name": "stdout",
     "output_type": "stream",
     "text": [
      "Thread name: MainThread\n",
      "Thread name: IOPub\n",
      "Thread name: Heartbeat\n",
      "Thread name: Control\n",
      "Thread name: IPythonHistorySavingThread\n",
      "Thread name: Thread-4\n"
     ]
    }
   ],
   "source": [
    "import threading\n",
    "\n",
    "def my_function():\n",
    "    pass\n",
    "\n",
    "# Create some threads\n",
    "thread1 = threading.Thread(target=my_function)\n",
    "thread2 = threading.Thread(target=my_function)\n",
    "\n",
    "# Start the threads\n",
    "thread1.start()\n",
    "thread2.start()\n",
    "\n",
    "# Get a list of all active threads\n",
    "active_threads = threading.enumerate()\n",
    "\n",
    "for thread in active_threads:\n",
    "    print(\"Thread name:\", thread.name)\n",
    "\n"
   ]
  },
  {
   "cell_type": "code",
   "execution_count": 11,
   "id": "878576ab",
   "metadata": {},
   "outputs": [],
   "source": [
    "# Q3. Explain the following functions\n",
    "#  1. run()\n",
    "#  2. start()\n",
    "#  3. join()\n",
    "#  4. isAlive()"
   ]
  },
  {
   "cell_type": "code",
   "execution_count": 12,
   "id": "1b4a00e2",
   "metadata": {},
   "outputs": [],
   "source": [
    "\n",
    "# In Python's threading module, the following functions are used to work with threads:\n",
    "\n",
    "# run(): The run() method is not a method that you explicitly call in your code. Instead, it is a method that you \n",
    "#     can override in your custom thread class by subclassing the threading.Thread class. When you create a custom\n",
    "#     thread class and override the run() method, the code within the run() method defines what the thread should execute\n",
    "#     when it starts. When you call the start() method to initiate the thread, it, in turn, invokes the run() method to \n",
    "#     execute the thread's logic. It's where you place the actual work or tasks that the thread should perform.\n",
    "\n",
    "# Example of overriding the run() method:"
   ]
  },
  {
   "cell_type": "code",
   "execution_count": 13,
   "id": "f51d1b12",
   "metadata": {},
   "outputs": [
    {
     "name": "stdout",
     "output_type": "stream",
     "text": [
      "Thread is running!\n"
     ]
    }
   ],
   "source": [
    "import threading\n",
    "\n",
    "class MyThread(threading.Thread):\n",
    "    def run(self):\n",
    "        # This is the code that the thread will execute when started.\n",
    "        print(\"Thread is running!\")\n",
    "\n",
    "# Create a thread instance\n",
    "my_thread = MyThread()\n",
    "\n",
    "# Start the thread (which will invoke the run() method)\n",
    "my_thread.start()\n"
   ]
  },
  {
   "cell_type": "code",
   "execution_count": 14,
   "id": "ffea48c4",
   "metadata": {},
   "outputs": [],
   "source": [
    "# start(): The start() method is used to initiate the execution of a thread. When you call start(), it begins the \n",
    "#     execution of the thread's run() method in a separate thread of control. It doesn't execute the run() method\n",
    "#     immediately; instead, it sets up the thread and then invokes run() in the context of that thread. This allows \n",
    "#     for concurrent execution of multiple threads.\n",
    "\n",
    "# Example of starting a thread:"
   ]
  },
  {
   "cell_type": "code",
   "execution_count": 15,
   "id": "47ea44fe",
   "metadata": {},
   "outputs": [
    {
     "name": "stdout",
     "output_type": "stream",
     "text": [
      "Thread is running!\n"
     ]
    }
   ],
   "source": [
    "import threading\n",
    "\n",
    "def my_function():\n",
    "    print(\"Thread is running!\")\n",
    "\n",
    "# Create a thread instance\n",
    "my_thread = threading.Thread(target=my_function)\n",
    "\n",
    "# Start the thread (which will invoke the target function)\n",
    "my_thread.start()\n"
   ]
  },
  {
   "cell_type": "code",
   "execution_count": 16,
   "id": "cdd38862",
   "metadata": {},
   "outputs": [],
   "source": [
    "# join(): The join() method is used to block the current thread until the thread on which it's called has finished \n",
    "#     its execution. It's often used when you want to ensure that one thread completes its task before another thread \n",
    "#     continues or when you want to wait for the completion of multiple threads. Calling join() on a thread will effectively\n",
    "#     wait until that thread finishes.\n",
    "\n",
    "# Example of using join() to wait for a thread to complete:"
   ]
  },
  {
   "cell_type": "code",
   "execution_count": 17,
   "id": "847428c8",
   "metadata": {},
   "outputs": [
    {
     "name": "stdout",
     "output_type": "stream",
     "text": [
      "Thread is running!\n",
      "Thread has completed.\n"
     ]
    }
   ],
   "source": [
    "import threading\n",
    "\n",
    "def my_function():\n",
    "    print(\"Thread is running!\")\n",
    "\n",
    "# Create a thread instance\n",
    "my_thread = threading.Thread(target=my_function)\n",
    "\n",
    "# Start the thread\n",
    "my_thread.start()\n",
    "\n",
    "# Wait for the thread to finish before proceeding\n",
    "my_thread.join()\n",
    "print(\"Thread has completed.\")\n"
   ]
  },
  {
   "cell_type": "code",
   "execution_count": 18,
   "id": "bba020f6",
   "metadata": {},
   "outputs": [],
   "source": [
    "# isAlive(): The isAlive() method is used to check whether a thread is currently active or running. It returns True \n",
    "#     if the thread is still executing and False if the thread has completed its execution.\n",
    "\n",
    "# Example of using isAlive():"
   ]
  },
  {
   "cell_type": "code",
   "execution_count": 20,
   "id": "f35480ab",
   "metadata": {},
   "outputs": [
    {
     "ename": "AttributeError",
     "evalue": "'Thread' object has no attribute 'isAlive'",
     "output_type": "error",
     "traceback": [
      "\u001b[1;31m---------------------------------------------------------------------------\u001b[0m",
      "\u001b[1;31mAttributeError\u001b[0m                            Traceback (most recent call last)",
      "Input \u001b[1;32mIn [20]\u001b[0m, in \u001b[0;36m<cell line: 14>\u001b[1;34m()\u001b[0m\n\u001b[0;32m     11\u001b[0m my_thread\u001b[38;5;241m.\u001b[39mstart()\n\u001b[0;32m     13\u001b[0m \u001b[38;5;66;03m# Check if the thread is still alive\u001b[39;00m\n\u001b[1;32m---> 14\u001b[0m \u001b[38;5;28;01mif\u001b[39;00m \u001b[43mmy_thread\u001b[49m\u001b[38;5;241;43m.\u001b[39;49m\u001b[43misAlive\u001b[49m():\n\u001b[0;32m     15\u001b[0m     \u001b[38;5;28mprint\u001b[39m(\u001b[38;5;124m\"\u001b[39m\u001b[38;5;124mThread is still running.\u001b[39m\u001b[38;5;124m\"\u001b[39m)\n\u001b[0;32m     16\u001b[0m \u001b[38;5;28;01melse\u001b[39;00m:\n",
      "\u001b[1;31mAttributeError\u001b[0m: 'Thread' object has no attribute 'isAlive'"
     ]
    }
   ],
   "source": [
    "import threading\n",
    "import time\n",
    "\n",
    "def my_function():\n",
    "    time.sleep(2)\n",
    "\n",
    "# Create a thread instance\n",
    "my_thread = threading.Thread(target=my_function)\n",
    "\n",
    "# Start the thread\n",
    "my_thread.start()\n",
    "\n",
    "# Check if the thread is still alive\n",
    "if my_thread.isAlive():\n",
    "    print(\"Thread is still running.\")\n",
    "else:\n",
    "    print(\"Thread has completed.\")\n",
    "\n",
    "# Wait for the thread to finish\n",
    "my_thread.join()\n"
   ]
  },
  {
   "cell_type": "code",
   "execution_count": 21,
   "id": "d42913c2",
   "metadata": {},
   "outputs": [],
   "source": [
    "# Q4. rite a python program to create two threads. Thread one must print the list of squares and thread\n",
    "# two must print the list of cubes"
   ]
  },
  {
   "cell_type": "code",
   "execution_count": 22,
   "id": "0b42479e",
   "metadata": {},
   "outputs": [],
   "source": [
    "# You can create two threads to print lists of squares and cubes using Python's threading module. Here's a program that \n",
    "# demonstrates how to do this:"
   ]
  },
  {
   "cell_type": "code",
   "execution_count": 23,
   "id": "f0c0c9de",
   "metadata": {},
   "outputs": [
    {
     "name": "stdout",
     "output_type": "stream",
     "text": [
      "Square of 1: 1\n",
      "Cube of 1: 1\n",
      "Cube of 2: 8\n",
      "Cube of 3: 27\n",
      "Cube of 4: 64\n",
      "Cube of 5: 125\n",
      "Square of 2: 4\n",
      "Square of 3: 9\n",
      "Square of 4: 16\n",
      "Square of 5: 25\n",
      "Both threads have completed.\n"
     ]
    }
   ],
   "source": [
    "import threading\n",
    "\n",
    "def print_squares(numbers):\n",
    "    for num in numbers:\n",
    "        print(f\"Square of {num}: {num ** 2}\")\n",
    "\n",
    "def print_cubes(numbers):\n",
    "    for num in numbers:\n",
    "        print(f\"Cube of {num}: {num ** 3}\")\n",
    "\n",
    "# List of numbers\n",
    "numbers = [1, 2, 3, 4, 5]\n",
    "\n",
    "# Create two thread instances\n",
    "thread1 = threading.Thread(target=print_squares, args=(numbers,))\n",
    "thread2 = threading.Thread(target=print_cubes, args=(numbers,))\n",
    "\n",
    "# Start the threads\n",
    "thread1.start()\n",
    "thread2.start()\n",
    "\n",
    "# Wait for both threads to finish\n",
    "thread1.join()\n",
    "thread2.join()\n",
    "\n",
    "print(\"Both threads have completed.\")\n"
   ]
  },
  {
   "cell_type": "code",
   "execution_count": 24,
   "id": "f7c627fc",
   "metadata": {},
   "outputs": [],
   "source": [
    "# In this program:\n",
    "\n",
    "# We define two functions, print_squares and print_cubes, which take a list of numbers as an argument and print the \n",
    "# square and cube of each number, respectively.\n",
    "\n",
    "# We create a list of numbers.\n",
    "\n",
    "# We create two thread instances, thread1 and thread2, and assign the target functions and their corresponding arguments. \n",
    "# args=(numbers,) is used to pass the numbers list as an argument to the functions.\n",
    "\n",
    "# We start both threads using the start() method.\n",
    "\n",
    "# We use join() to wait for both threads to finish their respective tasks.\n",
    "\n",
    "# Finally, we print a message indicating that both threads have completed.\n",
    "\n"
   ]
  },
  {
   "cell_type": "code",
   "execution_count": 25,
   "id": "066a60c3",
   "metadata": {},
   "outputs": [],
   "source": [
    "# Q5. State advantages and disadvantages of multithreading"
   ]
  },
  {
   "cell_type": "code",
   "execution_count": 26,
   "id": "ccb0597c",
   "metadata": {},
   "outputs": [],
   "source": [
    "# Multithreading, the concurrent execution of multiple threads within a single process, offers several advantages and\n",
    "# disadvantages. Here are some of the key points to consider:\n",
    "\n",
    "# Advantages of Multithreading:\n",
    "\n",
    "# Improved Performance: Multithreading can lead to improved performance by taking advantage of multi-core processors. \n",
    "#     It allows the execution of multiple tasks simultaneously, making the program more efficient, especially for\n",
    "#     CPU-bound and I/O-bound tasks.\n",
    "\n",
    "# Responsiveness: Multithreading can make a program more responsive by allowing it to perform tasks in the background \n",
    "#     while still handling user interactions or external events. This is particularly useful in GUI applications and \n",
    "#     real-time systems.\n",
    "\n",
    "# Resource Sharing: Threads within the same process share memory space, which can simplify communication and data sharing \n",
    "#     between threads. This can be advantageous for applications that require efficient data exchange.\n",
    "\n",
    "# Modular and Clean Code: Multithreading allows you to break down complex tasks into smaller, more manageable threads. This\n",
    "#     can lead to cleaner and more modular code, making the program easier to maintain.\n",
    "\n",
    "# Concurrency Control: Multithreading provides mechanisms for synchronization and coordination between threads. Techniques\n",
    "#     such as locks, semaphores, and condition variables allow for controlled access to shared resources, reducing race \n",
    "#     conditions.\n",
    "\n",
    "# Disadvantages of Multithreading:\n",
    "\n",
    "# Complexity: Multithreading introduces complexity to a program. It can be challenging to manage the synchronization\n",
    "#     and coordination of threads, leading to potential race conditions and deadlocks if not handled correctly.\n",
    "\n",
    "# Debugging: Debugging multithreaded programs can be more difficult. Issues may not be reproducible consistently, and \n",
    "#     debugging tools can be less effective in diagnosing problems.\n",
    "\n",
    "# Resource Overhead: Threads consume system resources, such as memory and CPU time. Having too many threads can lead \n",
    "#     to resource contention and performance degradation.\n",
    "\n",
    "# Global Interpreter Lock (GIL): In CPython (the default Python interpreter), the Global Interpreter Lock (GIL) restricts \n",
    "#     true parallel execution of threads. This can limit the benefits of multithreading in CPU-bound tasks, as only one\n",
    "#     thread can execute Python bytecode at a time.\n",
    "\n",
    "# Portability: Multithreading behavior can be platform-dependent. Some platforms may have limitations or behave differently\n",
    "#     in terms of thread handling.\n",
    "\n",
    "# Thread Safety: Writing thread-safe code can be challenging. Protecting shared resources and data from concurrent access can\n",
    "#     lead to more complex and error-prone code.\n",
    "\n",
    "# Scalability: Adding more threads does not always lead to linear performance improvements. As the number of threads increases,\n",
    "#     the overhead of managing and synchronizing them can reduce the performance gain."
   ]
  },
  {
   "cell_type": "code",
   "execution_count": 27,
   "id": "3fe93da3",
   "metadata": {},
   "outputs": [],
   "source": [
    "# Q6. Explain deadlocks and race conditions."
   ]
  },
  {
   "cell_type": "code",
   "execution_count": 28,
   "id": "faaeeff6",
   "metadata": {},
   "outputs": [],
   "source": [
    "# Deadlocks and race conditions are common concurrency issues that can occur in multithreaded programs. \n",
    "# Let's explore each of these concepts:\n",
    "\n",
    "# Deadlocks:\n",
    "\n",
    "# A deadlock is a situation in which two or more threads or processes are unable to proceed because each is \n",
    "# waiting for the other to release a resource or complete a specific action. Deadlocks can occur in situations \n",
    "# where there is contention for shared resources, and each thread holds a resource while waiting for another.\n",
    "\n",
    "# Here are the necessary conditions for a deadlock to occur (known as the \"Four Coffins\" or \"Coffman Conditions\"):\n",
    "\n",
    "# Mutual Exclusion: At least one resource must be held in a non-shareable mode, meaning only one thread can use it at a time.\n",
    "# Hold and Wait: A thread must be holding one resource while waiting to acquire another.\n",
    "# No Preemption: Resources cannot be preempted from a thread but must be explicitly released.\n",
    "# Circular Wait: There must be a circular chain of two or more threads, each waiting for a resource held by the next.\n",
    "# To prevent deadlocks, strategies such as resource allocation graphs, timeouts, and careful resource management must be used.\n",
    "# In programming, using locks and semaphores effectively is critical to avoid deadlocks.\n",
    "\n",
    "# Race Conditions:\n",
    "\n",
    "# A race condition is a situation in which the behavior of a program depends on the relative timing of events, particularly \n",
    "# the order in which threads or processes are scheduled to run. In other words, it's a condition where multiple threads access \n",
    "# shared resources concurrently, and the final outcome depends on the sequence of operations.\n",
    "\n",
    "# Race conditions can lead to unexpected and erroneous behavior because they can result in data corruption or inconsistencies.\n",
    "# Race conditions are more likely to occur when shared data is not protected by proper synchronization mechanisms.\n",
    "\n",
    "# To mitigate race conditions, you can use synchronization primitives like locks, semaphores, and mutexes to ensure that only\n",
    "# one thread at a time accesses or modifies shared resources. These mechanisms establish a critical section where only one \n",
    "# thread is allowed to execute at any given time, preventing concurrent access and potential data corruption.\n",
    "\n",
    "# In summary, deadlocks and race conditions are both concurrency issues that can disrupt the normal operation of multithreaded \n",
    "# programs. Deadlocks involve a situation where threads are stuck and unable to make progress, while race conditions involve \n",
    "# unpredictable outcomes due to uncontrolled access to shared resources. Careful design and proper synchronization techniques \n",
    "# are essential to avoid or resolve these issues."
   ]
  },
  {
   "cell_type": "code",
   "execution_count": null,
   "id": "ce36e1a7",
   "metadata": {},
   "outputs": [],
   "source": []
  }
 ],
 "metadata": {
  "kernelspec": {
   "display_name": "Python 3 (ipykernel)",
   "language": "python",
   "name": "python3"
  },
  "language_info": {
   "codemirror_mode": {
    "name": "ipython",
    "version": 3
   },
   "file_extension": ".py",
   "mimetype": "text/x-python",
   "name": "python",
   "nbconvert_exporter": "python",
   "pygments_lexer": "ipython3",
   "version": "3.9.12"
  }
 },
 "nbformat": 4,
 "nbformat_minor": 5
}
