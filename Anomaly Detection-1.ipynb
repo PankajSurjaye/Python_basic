{
 "cells": [
  {
   "cell_type": "code",
   "execution_count": null,
   "id": "04aec173-0bae-4d2d-b913-603841486831",
   "metadata": {},
   "outputs": [],
   "source": [
    "Q1. What is anomaly detection and what is its purpose?\n",
    "\n",
    "Anomaly detection, also known as outlier detection, is the process of identifying rare items, events, or observations which differ significantly from the majority of the data. \n",
    "Its purpose is to detect unusual patterns or data points that deviate from the norm, which may indicate potential issues, fraud, or interesting phenomena."
   ]
  },
  {
   "cell_type": "code",
   "execution_count": null,
   "id": "394fb170-dfbe-42f6-8223-42be33e24076",
   "metadata": {},
   "outputs": [],
   "source": [
    "Q2. What are the key challenges in anomaly detection?\n",
    "\n",
    "Some key challenges in anomaly detection include:\n",
    "Lack of labeled data: Anomalies are often rare, making it difficult to obtain sufficient labeled data for supervised learning.\n",
    "Imbalanced datasets: Anomalies are typically a minority class, leading to imbalanced datasets which can affect the performance of traditional machine learning algorithms.\n",
    "Dynamic nature of data: Anomalies may change over time, requiring adaptive models to detect new types of anomalies.\n",
    "Interpretability: Understanding and interpreting detected anomalies can be challenging, especially in complex datasets.\n",
    "False positives: Anomaly detection algorithms may produce false positives, where normal data is incorrectly flagged as anomalous."
   ]
  },
  {
   "cell_type": "code",
   "execution_count": null,
   "id": "92000eee-39d7-47a1-b65c-efc15eadd36d",
   "metadata": {},
   "outputs": [],
   "source": [
    "Q3. How does unsupervised anomaly detection differ from supervised anomaly detection?\n",
    "\n",
    "Unsupervised anomaly detection does not require labeled data and seeks to identify anomalies based solely on the characteristics of the data itself. \n",
    "In contrast, supervised anomaly detection requires labeled data, where anomalies are explicitly identified, and the algorithm learns to distinguish between normal and anomalous instances based on these labels."
   ]
  },
  {
   "cell_type": "code",
   "execution_count": null,
   "id": "56c1b335-01df-45a8-a658-56caa3f338ae",
   "metadata": {},
   "outputs": [],
   "source": [
    "Q4. What are the main categories of anomaly detection algorithms?\n",
    "\n",
    "The main categories of anomaly detection algorithms include:\n",
    "Statistical methods: Based on statistical properties of the data, such as mean, variance, or distribution.\n",
    "Machine learning-based methods: Utilize machine learning algorithms to learn patterns in the data and identify anomalies.\n",
    "Proximity-based methods: Measure the similarity or dissimilarity of data points to identify anomalies.\n",
    "Information theory-based methods: Analyze the information content of data to detect anomalies.\n",
    "Domain-specific methods: Tailored approaches designed for specific domains or applications."
   ]
  },
  {
   "cell_type": "code",
   "execution_count": null,
   "id": "d3709bab-de59-4ae0-a906-3178f4aac8da",
   "metadata": {},
   "outputs": [],
   "source": [
    "Q5. What are the main assumptions made by distance-based anomaly detection methods?\n",
    "\n",
    "Distance-based anomaly detection methods assume that anomalies are located far from normal instances in the feature space.\n",
    "These methods typically measure distances or similarities between data points and identify instances that are significantly distant from their neighbors as anomalies."
   ]
  },
  {
   "cell_type": "code",
   "execution_count": null,
   "id": "0ab00bdb-58c2-4ba8-8ea0-b49f26529655",
   "metadata": {},
   "outputs": [],
   "source": [
    "Q6. How does the LOF algorithm compute anomaly scores?\n",
    "\n",
    "The LOF (Local Outlier Factor) algorithm computes anomaly scores based on the local density deviation of a data point compared to its neighbors. \n",
    "It calculates the ratio of the average local density of a point's k-nearest neighbors to its own local density. A point with a significantly lower density than its neighbors is considered an anomaly, resulting in a higher LOF score."
   ]
  },
  {
   "cell_type": "code",
   "execution_count": null,
   "id": "d40685cd-110a-4cfe-bb73-6f50666e3a81",
   "metadata": {},
   "outputs": [],
   "source": [
    "Q7. What are the key parameters of the Isolation Forest algorithm?\n",
    "\n",
    "The key parameters of the Isolation Forest algorithm include:\n",
    "n_estimators: The number of trees in the forest.\n",
    "max_samples: The number of samples to draw from the dataset to build each tree.\n",
    "max_features: The number of features to consider when splitting a node.\n",
    "contamination: The proportion of outliers in the dataset (optional)."
   ]
  },
  {
   "cell_type": "code",
   "execution_count": null,
   "id": "cd9f4b0a-eeba-47d2-b345-7b9d46992c26",
   "metadata": {},
   "outputs": [],
   "source": [
    "Q8. If a data point has only 2 neighbors of the same class within a radius of 0.5, what is its anomaly score using KNN with K=10?\n",
    "\n",
    "Anomaly scores in KNN-based methods are typically computed based on the distance to the k-nearest neighbors. If a data point has only 2 neighbors within a radius of 0.5,\n",
    "it suggests that it is in a low-density region, which could indicate an anomaly. The anomaly score would depend on the distances to its nearest neighbors and how they compare to distances in normal regions of the feature space."
   ]
  },
  {
   "cell_type": "code",
   "execution_count": null,
   "id": "05df0de9-bd75-462f-874e-db7e02899469",
   "metadata": {},
   "outputs": [],
   "source": [
    "Q9. Using the Isolation Forest algorithm with 100 trees and a dataset of 3000 data points, what is the anomaly score for a data point that has an average path length of 5.0 compared to the average path length of the trees?\n",
    "\n",
    "In the Isolation Forest algorithm, the anomaly score for a data point is calculated as the average path length of the data point across all trees. \n",
    "A shorter average path length indicates that the data point is easier to isolate and is more likely to be an anomaly. Therefore, a data point with an average path length of 5.0 compared to the average path length of the trees would likely be considered less anomalous than a data point with a shorter average path length."
   ]
  }
 ],
 "metadata": {
  "kernelspec": {
   "display_name": "Python 3 (ipykernel)",
   "language": "python",
   "name": "python3"
  },
  "language_info": {
   "codemirror_mode": {
    "name": "ipython",
    "version": 3
   },
   "file_extension": ".py",
   "mimetype": "text/x-python",
   "name": "python",
   "nbconvert_exporter": "python",
   "pygments_lexer": "ipython3",
   "version": "3.10.8"
  }
 },
 "nbformat": 4,
 "nbformat_minor": 5
}
