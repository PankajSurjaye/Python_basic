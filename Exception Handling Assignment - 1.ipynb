{
 "cells": [
  {
   "cell_type": "markdown",
   "id": "5cbb2dc8",
   "metadata": {},
   "source": [
    "# Exception Handling Assignment - 1"
   ]
  },
  {
   "cell_type": "code",
   "execution_count": 34,
   "id": "7bbb6873",
   "metadata": {},
   "outputs": [],
   "source": [
    "# Q1. What is an Exeption in pthon? Write the difference between Exeptions and syntax errors."
   ]
  },
  {
   "cell_type": "code",
   "execution_count": 35,
   "id": "0af247ea",
   "metadata": {},
   "outputs": [],
   "source": [
    "# In Python, an exception is an event that occurs during the execution of a program, which disrupts the normal \n",
    "# flow of the program's instructions. Exceptions are used to handle errors or exceptional situations in a more structured \n",
    "# and controlled manner. They help make your code more robust by allowing you to gracefully handle unexpected issues that \n",
    "# might arise during program execution.\n",
    "\n",
    "# Here are the key differences between exceptions and syntax errors in Python:\n",
    "\n",
    "# Exceptions:\n",
    "\n",
    "# Exceptions are runtime errors that occur while a program is running. They are caused by factors like user input, \n",
    "# file I/O, network issues, etc.\n",
    "# Exceptions are not known in advance and cannot be predicted at the time of writing the code.\n",
    "# You can handle exceptions using try, except, finally, and else blocks to gracefully manage error situations and\n",
    "# prevent your program from crashing.\n",
    "# Examples of exceptions include ZeroDivisionError, FileNotFoundError, and IndexError.\n",
    "\n",
    "# Syntax Errors:\n",
    "\n",
    "# Syntax errors are also known as parsing errors. They occur when you write code that doesn't conform to the Python \n",
    "# language rules. These errors are detected by the Python interpreter before the program is executed.\n",
    "# Syntax errors can be predicted and are usually the result of typos, incorrect indentation, or invalid Python \n",
    "# language constructs.\n",
    "# You need to fix syntax errors before you can successfully run your code. They prevent the program from running at all.\n",
    "# Examples of syntax errors include missing colons, unmatched parentheses, and undefined variables.\n",
    "# In summary, exceptions are runtime errors that can be handled within your code using try-except blocks, while syntax \n",
    "# errors are detected by the Python interpreter before your program runs and need to be fixed to execute the code successfully."
   ]
  },
  {
   "cell_type": "code",
   "execution_count": 36,
   "id": "536c734d",
   "metadata": {},
   "outputs": [],
   "source": [
    "# Q2. What happens when an exception is not handled? Explain with an example."
   ]
  },
  {
   "cell_type": "code",
   "execution_count": 37,
   "id": "720fbeaf",
   "metadata": {},
   "outputs": [],
   "source": [
    "# When an exception is not handled in a Python program, it leads to the program's termination or abrupt exit.\n",
    "# The Python interpreter stops executing the program and prints an error message that provides information about \n",
    "# the unhandled exception, which can help in diagnosing the issue.\n",
    "\n",
    "# Here's an example to illustrate what happens when an exception is not handled:"
   ]
  },
  {
   "cell_type": "code",
   "execution_count": 38,
   "id": "2af4bdb1",
   "metadata": {},
   "outputs": [
    {
     "ename": "ZeroDivisionError",
     "evalue": "division by zero",
     "output_type": "error",
     "traceback": [
      "\u001b[1;31m---------------------------------------------------------------------------\u001b[0m",
      "\u001b[1;31mZeroDivisionError\u001b[0m                         Traceback (most recent call last)",
      "Input \u001b[1;32mIn [38]\u001b[0m, in \u001b[0;36m<cell line: 5>\u001b[1;34m()\u001b[0m\n\u001b[0;32m      2\u001b[0m     \u001b[38;5;28;01mreturn\u001b[39;00m a \u001b[38;5;241m/\u001b[39m b\n\u001b[0;32m      4\u001b[0m \u001b[38;5;66;03m# This will raise a ZeroDivisionError because we are trying to divide by zero.\u001b[39;00m\n\u001b[1;32m----> 5\u001b[0m result \u001b[38;5;241m=\u001b[39m \u001b[43mdivide\u001b[49m\u001b[43m(\u001b[49m\u001b[38;5;241;43m10\u001b[39;49m\u001b[43m,\u001b[49m\u001b[43m \u001b[49m\u001b[38;5;241;43m0\u001b[39;49m\u001b[43m)\u001b[49m\n\u001b[0;32m      7\u001b[0m \u001b[38;5;66;03m# The program will not reach this line because the exception is not handled.\u001b[39;00m\n\u001b[0;32m      8\u001b[0m \u001b[38;5;28mprint\u001b[39m(\u001b[38;5;124m\"\u001b[39m\u001b[38;5;124mResult:\u001b[39m\u001b[38;5;124m\"\u001b[39m, result)\n",
      "Input \u001b[1;32mIn [38]\u001b[0m, in \u001b[0;36mdivide\u001b[1;34m(a, b)\u001b[0m\n\u001b[0;32m      1\u001b[0m \u001b[38;5;28;01mdef\u001b[39;00m \u001b[38;5;21mdivide\u001b[39m(a, b):\n\u001b[1;32m----> 2\u001b[0m     \u001b[38;5;28;01mreturn\u001b[39;00m \u001b[43ma\u001b[49m\u001b[43m \u001b[49m\u001b[38;5;241;43m/\u001b[39;49m\u001b[43m \u001b[49m\u001b[43mb\u001b[49m\n",
      "\u001b[1;31mZeroDivisionError\u001b[0m: division by zero"
     ]
    }
   ],
   "source": [
    "def divide(a, b):\n",
    "    return a / b\n",
    "\n",
    "# This will raise a ZeroDivisionError because we are trying to divide by zero.\n",
    "result = divide(10, 0)\n",
    "\n",
    "# The program will not reach this line because the exception is not handled.\n",
    "print(\"Result:\", result)\n"
   ]
  },
  {
   "cell_type": "code",
   "execution_count": 39,
   "id": "01b581bb",
   "metadata": {},
   "outputs": [],
   "source": [
    "# In this example, the divide function attempts to perform a division operation, but it tries to divide by zero.\n",
    "# Division by zero is not allowed in Python and results in a ZeroDivisionError exception."
   ]
  },
  {
   "cell_type": "code",
   "execution_count": 40,
   "id": "6578dce2",
   "metadata": {},
   "outputs": [],
   "source": [
    "# When you run this code, the following will happen:\n",
    "\n",
    "# The divide function is called with the arguments 10 and 0.\n",
    "# Inside the function, the division operation 10 / 0 is executed, which raises a ZeroDivisionError.\n",
    "# Since there is no try and except block to handle this exception, the exception propagates up to the top level of the program.\n",
    "# The program is terminated, and Python will print an error message that looks something like this:"
   ]
  },
  {
   "cell_type": "code",
   "execution_count": 41,
   "id": "a4a0dceb",
   "metadata": {},
   "outputs": [],
   "source": [
    "# Q3. Which Python statements are used to catch and handle exceptions? Explain with an example."
   ]
  },
  {
   "cell_type": "code",
   "execution_count": 42,
   "id": "52c3c466",
   "metadata": {},
   "outputs": [],
   "source": [
    "# In Python, you can catch and handle exceptions using the try and except statements. These statements allow \n",
    "# you to write code that attempts to execute a block of code that might raise an exception, and then specify\n",
    "# how you want to handle that exception if it occurs. \n",
    "\n",
    "# Here's the basic structure:"
   ]
  },
  {
   "cell_type": "code",
   "execution_count": 43,
   "id": "0ba705a1",
   "metadata": {},
   "outputs": [
    {
     "ename": "IndentationError",
     "evalue": "expected an indented block (370803373.py, line 3)",
     "output_type": "error",
     "traceback": [
      "\u001b[1;36m  Input \u001b[1;32mIn [43]\u001b[1;36m\u001b[0m\n\u001b[1;33m    except ExceptionType:\u001b[0m\n\u001b[1;37m    ^\u001b[0m\n\u001b[1;31mIndentationError\u001b[0m\u001b[1;31m:\u001b[0m expected an indented block\n"
     ]
    }
   ],
   "source": [
    "try:\n",
    "    # Code that might raise an exception\n",
    "except ExceptionType:\n",
    "    # Code to handle the exception\n"
   ]
  },
  {
   "cell_type": "code",
   "execution_count": 45,
   "id": "fde00a74",
   "metadata": {},
   "outputs": [],
   "source": [
    "# Here's an example to illustrate how to use these statements:"
   ]
  },
  {
   "cell_type": "code",
   "execution_count": 46,
   "id": "0e2c8f12",
   "metadata": {},
   "outputs": [
    {
     "name": "stdout",
     "output_type": "stream",
     "text": [
      "Result 1: 5.0\n",
      "Result 2: Division by zero is not allowed\n"
     ]
    }
   ],
   "source": [
    "def divide(a, b):\n",
    "    try:\n",
    "        result = a / b\n",
    "    except ZeroDivisionError:\n",
    "        result = \"Division by zero is not allowed\"\n",
    "    return result\n",
    "\n",
    "# Example 1: Dividing by a non-zero number\n",
    "result1 = divide(10, 2)\n",
    "print(\"Result 1:\", result1)\n",
    "\n",
    "# Example 2: Dividing by zero\n",
    "result2 = divide(10, 0)\n",
    "print(\"Result 2:\", result2)\n"
   ]
  },
  {
   "cell_type": "code",
   "execution_count": 47,
   "id": "ee7248f8",
   "metadata": {},
   "outputs": [],
   "source": [
    "# In this example, we have a divide function that attempts to perform a division operation. We use a try block to \n",
    "# enclose the code that might raise an exception (in this case, a division by zero), and an except block to specify \n",
    "# how to handle the exception if it occurs."
   ]
  },
  {
   "cell_type": "code",
   "execution_count": 48,
   "id": "e1d1e6f4",
   "metadata": {},
   "outputs": [],
   "source": [
    "# Q4. Explain with an example:\n",
    "# \ta. try and else\n",
    "# \tb. finally\n",
    "# \tc. raise"
   ]
  },
  {
   "cell_type": "code",
   "execution_count": 49,
   "id": "5f006d7b",
   "metadata": {},
   "outputs": [],
   "source": [
    "# a. try and else:\n",
    "\n",
    "# The try block is used to enclose code that might raise an exception, and the else block can be used to \n",
    "# specify code that should be executed if no exception occurs within the try block."
   ]
  },
  {
   "cell_type": "code",
   "execution_count": 50,
   "id": "6b056abc",
   "metadata": {},
   "outputs": [
    {
     "name": "stdout",
     "output_type": "stream",
     "text": [
      "No exception occurred.\n",
      "Result: 5.0\n"
     ]
    }
   ],
   "source": [
    "try:\n",
    "    result = 10 / 2\n",
    "except ZeroDivisionError:\n",
    "    result = \"Division by zero is not allowed\"\n",
    "else:\n",
    "    print(\"No exception occurred.\")\n",
    "    print(\"Result:\", result)\n"
   ]
  },
  {
   "cell_type": "code",
   "execution_count": 51,
   "id": "e7dd951f",
   "metadata": {},
   "outputs": [],
   "source": [
    "# In this example, we attempt to divide 10 by 2 within the try block, which does not raise a ZeroDivisionError.\n",
    "# As a result, the code in the else block is executed, printing \"No exception occurred\" and the calculated result."
   ]
  },
  {
   "cell_type": "code",
   "execution_count": 52,
   "id": "b7e169bf",
   "metadata": {},
   "outputs": [],
   "source": [
    "# b. finally:\n",
    "\n",
    "# The finally block is used to specify code that is executed regardless of whether an exception occurs or not."
   ]
  },
  {
   "cell_type": "code",
   "execution_count": 53,
   "id": "38e156af",
   "metadata": {},
   "outputs": [
    {
     "name": "stdout",
     "output_type": "stream",
     "text": [
      "Finally block executed.\n"
     ]
    }
   ],
   "source": [
    "try:\n",
    "    result = 10 / 0  # This will raise a ZeroDivisionError.\n",
    "except ZeroDivisionError:\n",
    "    result = \"Division by zero is not allowed\"\n",
    "finally:\n",
    "    print(\"Finally block executed.\")\n"
   ]
  },
  {
   "cell_type": "code",
   "execution_count": 54,
   "id": "e6c41674",
   "metadata": {},
   "outputs": [],
   "source": [
    "# In this example, we attempt to divide 10 by 0, which raises a ZeroDivisionError. Even though an exception occurs, \n",
    "# the finally block is executed, printing \"Finally block executed.\""
   ]
  },
  {
   "cell_type": "code",
   "execution_count": 55,
   "id": "e1d8cc14",
   "metadata": {},
   "outputs": [],
   "source": [
    "# c. raise:\n",
    "\n",
    "# The raise statement is used to explicitly raise an exception. You can use it to create custom exceptions or re-raise \n",
    "# exceptions that you catch."
   ]
  },
  {
   "cell_type": "code",
   "execution_count": 56,
   "id": "7c2426f4",
   "metadata": {},
   "outputs": [
    {
     "name": "stdout",
     "output_type": "stream",
     "text": [
      "You are too young to access this content.\n"
     ]
    }
   ],
   "source": [
    "def check_age(age):\n",
    "    if age < 0:\n",
    "        raise ValueError(\"Age cannot be negative.\")\n",
    "    elif age < 18:\n",
    "        raise PermissionError(\"You are too young to access this content.\")\n",
    "    else:\n",
    "        print(\"You are allowed access.\")\n",
    "\n",
    "try:\n",
    "    check_age(15)\n",
    "except ValueError as ve:\n",
    "    print(ve)\n",
    "except PermissionError as pe:\n",
    "    print(pe)\n"
   ]
  },
  {
   "cell_type": "code",
   "execution_count": 57,
   "id": "5c0c3207",
   "metadata": {},
   "outputs": [],
   "source": [
    "# In this example, the check_age function raises different exceptions based on the age provided as an argument. \n",
    "# If the age is negative, it raises a ValueError, and if the age is less than 18, it raises a PermissionError. \n",
    "# We catch these exceptions using except blocks and print the corresponding error messages.\n",
    "\n",
    "# So, in summary, \"try and else\" is used to specify code that runs when no exception occurs, \"finally\" is used for code that\n",
    "# runs regardless of exceptions, and \"raise\" is used to explicitly raise exceptions in your code."
   ]
  },
  {
   "cell_type": "code",
   "execution_count": 58,
   "id": "6c25b7f6",
   "metadata": {},
   "outputs": [],
   "source": [
    "# Q5. What are Custom Exceptions in python? Why do we need Custom Exceptions? Explain with an example."
   ]
  },
  {
   "cell_type": "code",
   "execution_count": 59,
   "id": "525ac0c3",
   "metadata": {},
   "outputs": [],
   "source": [
    "# Custom exceptions in Python are user-defined exception classes that extend Python's built-in exception classes.\n",
    "# They are created to represent specific error conditions or exceptional situations that are not adequately covered by \n",
    "# the standard built-in exceptions. You can design custom exceptions to make your code more expressive and provide clearer \n",
    "# information about the nature of the error.\n",
    "\n",
    "# Here's why you might need custom exceptions:\n",
    "\n",
    "# Clarity and Readability: \n",
    "#     Custom exceptions provide meaningful names for errors that occur in your code. This makes it easier for other \n",
    "#     developers (including yourself) to understand the purpose of the exception and how to handle it.\n",
    "\n",
    "# Organization:\n",
    "#     Custom exceptions can help you categorize and organize errors into a hierarchy, making it easier to handle different \n",
    "#     types of exceptions in a structured manner.\n",
    "\n",
    "# Separation of Concerns: \n",
    "#     They allow you to separate error handling logic from the main code, promoting cleaner and \n",
    "#     more maintainable code.\n",
    "\n",
    "# Specific Handling:\n",
    "#     You can handle custom exceptions in a specific way that's appropriate for your application, rather than using a \n",
    "#     catch-all approach for built-in exceptions.\n",
    "\n",
    "# Here's an example of a custom exception and its usage:"
   ]
  },
  {
   "cell_type": "code",
   "execution_count": 60,
   "id": "f252d897",
   "metadata": {},
   "outputs": [
    {
     "name": "stdout",
     "output_type": "stream",
     "text": [
      "Error: Value cannot be negative, Value: -25\n"
     ]
    }
   ],
   "source": [
    "class NegativeValueError(Exception):\n",
    "    \"\"\"Custom exception to handle negative values.\"\"\"\n",
    "\n",
    "    def __init__(self, value, message=\"Value cannot be negative\"):\n",
    "        self.value = value\n",
    "        self.message = message\n",
    "        super().__init__(self.message)\n",
    "\n",
    "def calculate_square_root(value):\n",
    "    if value < 0:\n",
    "        raise NegativeValueError(value)\n",
    "    return value ** 0.5\n",
    "\n",
    "try:\n",
    "    result = calculate_square_root(-25)\n",
    "except NegativeValueError as nve:\n",
    "    print(f\"Error: {nve.message}, Value: {nve.value}\")\n",
    "else:\n",
    "    print(f\"Square root: {result}\")\n"
   ]
  },
  {
   "cell_type": "code",
   "execution_count": 61,
   "id": "0170c30f",
   "metadata": {},
   "outputs": [],
   "source": [
    "# In this example, we define a custom exception called NegativeValueError, which inherits from the base Exception class. \n",
    "# This custom exception is designed to handle situations where a negative value is encountered.\n",
    "\n",
    "# The calculate_square_root function calculates the square root of a number, but it raises a NegativeValueError if the \n",
    "# input is negative. When we call this function with -25, it raises the NegativeValueError, and we catch it using a try and \n",
    "# except block.\n",
    "\n",
    "# Custom exceptions allow for clear, specific error handling and make it evident that a negative value is the issue,\n",
    "# enhancing the readability and maintainability of your code."
   ]
  },
  {
   "cell_type": "code",
   "execution_count": 62,
   "id": "c6eb2748",
   "metadata": {},
   "outputs": [],
   "source": [
    "# Q6. Create a custom exception class. Use this class to handle an exception."
   ]
  },
  {
   "cell_type": "code",
   "execution_count": 63,
   "id": "29757424",
   "metadata": {},
   "outputs": [],
   "source": [
    "# Certainly! Here's an example of creating a custom exception class and using it to handle an exception:"
   ]
  },
  {
   "cell_type": "code",
   "execution_count": 64,
   "id": "f89c301f",
   "metadata": {},
   "outputs": [
    {
     "name": "stdout",
     "output_type": "stream",
     "text": [
      "Custom Exception: Value should be non-negative. (Value: -5)\n"
     ]
    }
   ],
   "source": [
    "class CustomValueError(Exception):\n",
    "    \"\"\"Custom exception to handle specific value errors.\"\"\"\n",
    "\n",
    "    def __init__(self, value, message=\"Custom value error occurred\"):\n",
    "        self.value = value\n",
    "        self.message = message\n",
    "        super().__init__(self.message)\n",
    "\n",
    "def process_value(value):\n",
    "    if value < 0:\n",
    "        raise CustomValueError(value, \"Value should be non-negative.\")\n",
    "    return value * 2\n",
    "\n",
    "try:\n",
    "    input_value = -5\n",
    "    result = process_value(input_value)\n",
    "except CustomValueError as cve:\n",
    "    print(f\"Custom Exception: {cve.message} (Value: {cve.value})\")\n",
    "else:\n",
    "    print(f\"Result: {result}\")\n"
   ]
  },
  {
   "cell_type": "code",
   "execution_count": 65,
   "id": "2f7f080c",
   "metadata": {},
   "outputs": [],
   "source": [
    "# In this code:\n",
    "\n",
    "# We define a custom exception class called CustomValueError, which inherits from the base Exception class.\n",
    "# It takes two parameters: value and an optional error message. If value is negative, it raises this custom exception.\n",
    "\n",
    "# The process_value function takes a value as input and raises a CustomValueError if the value is negative. Otherwise,\n",
    "# it doubles the value.\n",
    "\n",
    "# We then use a try and except block to call the process_value function with an input value of -5. Since the input \n",
    "# value is negative, it raises the CustomValueError. We catch this exception in the except block, and the custom error\n",
    "# message is printed.\n",
    "\n",
    "# If you were to call process_value with a non-negative value, it would return the doubled value without raising the \n",
    "# custom exception.\n",
    "\n",
    "# Custom exceptions like CustomValueError can be used to handle specific error cases in your code and provide more meaningful \n",
    "# error messages and context when issues arise."
   ]
  },
  {
   "cell_type": "code",
   "execution_count": null,
   "id": "caacb0dc",
   "metadata": {},
   "outputs": [],
   "source": []
  }
 ],
 "metadata": {
  "kernelspec": {
   "display_name": "Python 3 (ipykernel)",
   "language": "python",
   "name": "python3"
  },
  "language_info": {
   "codemirror_mode": {
    "name": "ipython",
    "version": 3
   },
   "file_extension": ".py",
   "mimetype": "text/x-python",
   "name": "python",
   "nbconvert_exporter": "python",
   "pygments_lexer": "ipython3",
   "version": "3.9.12"
  }
 },
 "nbformat": 4,
 "nbformat_minor": 5
}
