{
 "cells": [
  {
   "cell_type": "markdown",
   "id": "d23135cb",
   "metadata": {},
   "source": [
    "# Multiprocessing Assignment"
   ]
  },
  {
   "cell_type": "code",
   "execution_count": null,
   "id": "df2e6f9d",
   "metadata": {},
   "outputs": [],
   "source": [
    "# Q1. What is multiprocessing in python? Why is it useful?"
   ]
  },
  {
   "cell_type": "code",
   "execution_count": null,
   "id": "7cf06d81",
   "metadata": {},
   "outputs": [],
   "source": [
    "# Multiprocessing in Python refers to the concurrent execution of multiple processes within a single or multiple processors\n",
    "# or CPU cores. Unlike multithreading, which involves executing multiple threads within a single process, multiprocessing \n",
    "# allows you to create and run multiple independent processes. Each process has its memory space, Python interpreter, and \n",
    "# resources, making it suitable for CPU-bound tasks and scenarios that require true parallelism.\n",
    "\n",
    "# Here are some reasons why multiprocessing is useful in Python:\n",
    "\n",
    "# Parallel Execution: Multiprocessing allows you to take full advantage of multi-core processors. It enables concurrent \n",
    "#     execution of tasks, resulting in improved performance for CPU-bound operations. This is especially beneficial for\n",
    "#     computationally intensive tasks like data processing, numerical calculations, and simulations.\n",
    "\n",
    "# Isolation: Each process has its own memory space, so there is no shared state between processes by default. This \n",
    "#     isolation ensures that one process's errors or issues do not affect other processes, leading to more robust and \n",
    "#     reliable applications.\n",
    "\n",
    "# GIL Bypass: Unlike multithreading in CPython, where the Global Interpreter Lock (GIL) restricts true parallel execution\n",
    "#     of Python code, multiprocessing bypasses the GIL because each process has its Python interpreter. This makes \n",
    "#     multiprocessing particularly advantageous for CPU-bound tasks in CPython.\n",
    "\n",
    "# Multiple Platforms: Multiprocessing works well on different platforms, making it a portable solution for parallelism. \n",
    "#     It is available on most operating systems and can take full advantage of the available hardware resources.\n",
    "\n",
    "# Fault Tolerance: If one process crashes due to an error, other processes can continue running. This is important for \n",
    "#     long-running and mission-critical applications where you don't want a single error to bring down the entire program.\n",
    "\n",
    "# Simplified Debugging: Debugging is often simpler in multiprocessing because issues are isolated to individual processes. \n",
    "#     Debugging tools can be more effective in diagnosing and addressing problems.\n",
    "\n",
    "# Versatility: Multiprocessing can be used for a wide range of tasks, from data processing and simulations to server \n",
    "#     applications and distributed computing. It's a versatile tool for parallel and concurrent programming.\n",
    "\n",
    "# To implement multiprocessing in Python, you can use the multiprocessing module, which provides tools and classes for\n",
    "# creating and managing processes. This module allows you to create and manage multiple processes, distribute tasks among them, \n",
    "# and communicate between processes."
   ]
  },
  {
   "cell_type": "code",
   "execution_count": null,
   "id": "81638a11",
   "metadata": {},
   "outputs": [],
   "source": [
    "# Q2. What are the differences between multiprocessing and multithreading?"
   ]
  },
  {
   "cell_type": "code",
   "execution_count": null,
   "id": "3d4ed733",
   "metadata": {},
   "outputs": [],
   "source": [
    "# Multiprocessing and multithreading are both techniques for achieving concurrent execution in a program, but they differ\n",
    "# in several key ways. Here are the main differences between multiprocessing and multithreading:\n",
    "\n",
    "# Processes vs. Threads:\n",
    "\n",
    "# Multiprocessing: Multiprocessing involves the concurrent execution of multiple processes. Each process has its own memory\n",
    "#     space and Python interpreter. Processes do not share memory by default.\n",
    "# Multithreading: Multithreading involves the concurrent execution of multiple threads within a single process. Threads share\n",
    "#     the same memory space and resources of the parent process.\n",
    "    \n",
    "# Isolation:\n",
    "\n",
    "# Multiprocessing: Processes are isolated from each other. If one process crashes, it does not affect other processes, \n",
    "#     making multiprocessing more robust in terms of fault tolerance.\n",
    "# Multithreading: Threads share memory, so if one thread crashes, it can potentially impact the stability of the entire process.\n",
    "    \n",
    "# Parallelism:\n",
    "\n",
    "# Multiprocessing: Offers true parallelism, as processes can run on multiple CPU cores simultaneously. It is well-suited\n",
    "#     for CPU-bound tasks.\n",
    "# Multithreading: Limited by the Global Interpreter Lock (GIL) in CPython, which allows only one thread to execute Python \n",
    "#     bytecode at a time. Multithreading is often used for I/O-bound tasks where threads can wait for I/O operations.\n",
    "    \n",
    "# Resource Overhead:\n",
    "\n",
    "# Multiprocessing: Requires more system resources, such as memory and CPU time, due to separate memory spaces for each process.\n",
    "# Multithreading: Requires less overhead as threads share resources within the same process.\n",
    "    \n",
    "# Complexity:\n",
    "\n",
    "# Multiprocessing: Easier to manage and debug because processes are isolated. Debugging tools are more effective.\n",
    "# Multithreading: Can be more complex to manage due to shared memory and the potential for race conditions and deadlocks.\n",
    "#     Debugging multithreaded programs can be challenging.\n",
    "    \n",
    "# Platform Independence:\n",
    "\n",
    "# Multiprocessing: Offers greater platform independence and is available on various operating systems.\n",
    "# Multithreading: The behavior of multithreading can be platform-dependent, and certain operating systems may have\n",
    "#     limitations or behave differently.\n",
    "    \n",
    "# Inter-Thread/Inter-Process Communication:\n",
    "\n",
    "# Multiprocessing: Processes communicate through inter-process communication (IPC) mechanisms, such as pipes, queues, \n",
    "#     or shared memory.\n",
    "# Multithreading: Threads communicate through shared memory and can use synchronization primitives like locks and semaphores."
   ]
  },
  {
   "cell_type": "code",
   "execution_count": null,
   "id": "cf44e7a0",
   "metadata": {},
   "outputs": [],
   "source": [
    "# Q3. Write a python code to create a process using the multiprocessing module."
   ]
  },
  {
   "cell_type": "code",
   "execution_count": null,
   "id": "c158e02c",
   "metadata": {},
   "outputs": [],
   "source": [
    "import multiprocessing\n",
    "\n",
    "# Define a function that will be executed in the new process\n",
    "def process_function():\n",
    "    print(\"This is a child process.\")\n",
    "\n",
    "if __name__ == \"__main__\":\n",
    "    # Create a process\n",
    "    child_process = multiprocessing.Process(target=process_function)\n",
    "\n",
    "    # Start the process\n",
    "    child_process.start()\n",
    "\n",
    "    # Wait for the process to finish (optional)\n",
    "    child_process.join()\n",
    "\n",
    "    # Print a message from the main process\n",
    "    print(\"This is the main process.\")\n"
   ]
  },
  {
   "cell_type": "code",
   "execution_count": null,
   "id": "0e40569d",
   "metadata": {},
   "outputs": [],
   "source": [
    "# Q4. What is a multiprocessing pool in python? Why is it used?"
   ]
  },
  {
   "cell_type": "code",
   "execution_count": null,
   "id": "68411f84",
   "metadata": {},
   "outputs": [],
   "source": [
    "# A multiprocessing pool in Python refers to a group of worker processes that are managed by the multiprocessing module \n",
    "# to perform tasks in parallel. It provides a convenient way to distribute tasks across multiple processes, making it \n",
    "# easier to parallelize work, especially for tasks that can be divided into smaller units of work. The most commonly \n",
    "# used class for creating a multiprocessing pool is multiprocessing.Pool.\n",
    "\n",
    "# Here's why multiprocessing pools are used:\n",
    "\n",
    "# Parallelism: Multiprocessing pools are used to achieve parallelism by distributing tasks to multiple processes. \n",
    "#     Each process in the pool can execute a task concurrently, taking full advantage of multi-core processors and improving \n",
    "#     performance, especially for CPU-bound tasks.\n",
    "\n",
    "# Task Decomposition: They allow you to decompose a large task into smaller subtasks that can be processed in parallel. \n",
    "#     This is useful for tasks like data processing, where you can divide data into chunks and process each chunk concurrently.\n",
    "\n",
    "# Simplified Task Distribution: Pools provide a high-level and straightforward way to distribute tasks across processes.\n",
    "#     You don't need to manually create and manage individual processes or handle inter-process communication; the pool \n",
    "#     takes care of these details.\n",
    "\n",
    "# Resource Management: Multiprocessing pools manage the allocation and recycling of worker processes, which can be beneficial\n",
    "#     in terms of resource utilization. Worker processes can be reused for multiple tasks, reducing the overhead of process \n",
    "#     creation.\n",
    "\n",
    "# Convenience: Pools provide a simple and convenient API for parallel processing. You can submit tasks to the pool, and \n",
    "#     the pool handles the rest, returning results when the tasks are completed.\n",
    "\n",
    "# Load Balancing: Pools can help balance the load of tasks among worker processes, ensuring that tasks are distributed evenly\n",
    "#     for efficient processing.\n",
    "\n",
    "# Here's a basic example of using a multiprocessing pool to parallelize a task:"
   ]
  },
  {
   "cell_type": "code",
   "execution_count": null,
   "id": "828151ce",
   "metadata": {},
   "outputs": [],
   "source": [
    "import multiprocessing\n",
    "\n",
    "# Define a function to be executed in parallel\n",
    "def process_data(data_chunk):\n",
    "    result = [item ** 2 for item in data_chunk]\n",
    "    return result\n",
    "\n",
    "if __name__ == \"__main__\":\n",
    "    data = [1, 2, 3, 4, 5, 6, 7, 8, 9, 10]\n",
    "    \n",
    "    # Create a multiprocessing pool with 4 worker processes\n",
    "    with multiprocessing.Pool(processes=4) as pool:\n",
    "        # Divide the data into chunks and distribute them to the worker processes\n",
    "        results = pool.map(process_data, [data[i:i+2] for i in range(0, len(data), 2)])\n",
    "\n",
    "    # Combine the results\n",
    "    final_result = []\n",
    "    for result_chunk in results:\n",
    "        final_result.extend(result_chunk)\n",
    "\n",
    "    print(final_result)\n"
   ]
  },
  {
   "cell_type": "code",
   "execution_count": null,
   "id": "fef2c106",
   "metadata": {},
   "outputs": [],
   "source": [
    "# Q5. How can we create a pool of worker processes in python using the multiprocessing module?"
   ]
  },
  {
   "cell_type": "code",
   "execution_count": null,
   "id": "7dd9bb77",
   "metadata": {},
   "outputs": [],
   "source": [
    "# You can create a pool of worker processes in Python using the multiprocessing module's Pool class. The Pool class \n",
    "# provides a convenient way to manage a group of worker processes and parallelize tasks. Here's how to create a pool \n",
    "# of worker processes:\n",
    "\n",
    "# Import the multiprocessing module.\n",
    "\n",
    "# Define the function that you want to execute in parallel. This function will be executed by each worker process in the pool.\n",
    "\n",
    "# Create a Pool instance, specifying the number of worker processes you want in the pool. The number of processes should be \n",
    "# based on the number of CPU cores available on your system, as this can maximize parallelism.\n",
    "\n",
    "# Use the pool's methods to distribute and execute tasks. The two commonly used methods for task distribution are map()\n",
    "# and apply_async().\n",
    "\n",
    "# When you are done with the pool, make sure to close it and call join() to wait for all the worker processes to finish.\n",
    "\n",
    "# Here's a basic example that demonstrates how to create a pool of worker processes and use the map() method to parallelize\n",
    "# a task:"
   ]
  },
  {
   "cell_type": "code",
   "execution_count": null,
   "id": "e6337522",
   "metadata": {},
   "outputs": [],
   "source": [
    "import multiprocessing\n",
    "\n",
    "# Define a function to be executed in parallel\n",
    "def process_data(data_chunk):\n",
    "    result = [item ** 2 for item in data_chunk]\n",
    "    return result\n",
    "\n",
    "if __name__ == \"__main__\":\n",
    "    data = [1, 2, 3, 4, 5, 6, 7, 8, 9, 10]\n",
    "    \n",
    "    # Create a multiprocessing pool with 4 worker processes\n",
    "    with multiprocessing.Pool(processes=4) as pool:\n",
    "        # Use the map() method to distribute and execute the task\n",
    "        results = pool.map(process_data, [data[i:i+2] for i in range(0, len(data), 2)])\n",
    "\n",
    "    # Combine the results\n",
    "    final_result = []\n",
    "    for result_chunk in results:\n",
    "        final_result.extend(result_chunk)\n",
    "\n",
    "    print(final_result)\n"
   ]
  },
  {
   "cell_type": "code",
   "execution_count": null,
   "id": "479c084f",
   "metadata": {},
   "outputs": [],
   "source": [
    "# Q6. Write a python program to create 4 processes, each process should print a different number using the\n",
    "# multiprocessing module in python."
   ]
  },
  {
   "cell_type": "code",
   "execution_count": null,
   "id": "cfa86462",
   "metadata": {},
   "outputs": [],
   "source": [
    "import multiprocessing\n",
    "\n",
    "# Define a function to print a number\n",
    "def print_number(number):\n",
    "    print(f\"Process {number}: {number}\")\n",
    "\n",
    "if __name__ == \"__main__\":\n",
    "    # Create a list of numbers (1 to 4)\n",
    "    numbers = [1, 2, 3, 4]\n",
    "\n",
    "    # Create a multiprocessing pool with 4 worker processes\n",
    "    with multiprocessing.Pool(processes=4) as pool:\n",
    "        # Use the map() method to execute the print_number function with different numbers\n",
    "        pool.map(print_number, numbers)\n"
   ]
  },
  {
   "cell_type": "code",
   "execution_count": null,
   "id": "8c16307e",
   "metadata": {},
   "outputs": [],
   "source": []
  }
 ],
 "metadata": {
  "kernelspec": {
   "display_name": "Python 3 (ipykernel)",
   "language": "python",
   "name": "python3"
  },
  "language_info": {
   "codemirror_mode": {
    "name": "ipython",
    "version": 3
   },
   "file_extension": ".py",
   "mimetype": "text/x-python",
   "name": "python",
   "nbconvert_exporter": "python",
   "pygments_lexer": "ipython3",
   "version": "3.9.12"
  }
 },
 "nbformat": 4,
 "nbformat_minor": 5
}
